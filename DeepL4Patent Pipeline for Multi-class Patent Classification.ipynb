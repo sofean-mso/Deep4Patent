{
 "cells": [
  {
   "cell_type": "markdown",
   "metadata": {},
   "source": [
    "# Deep Learning based Pipeline with Multichannel Inputs for Multi-class Patent Classification\n",
    "\n",
    "This notebook describes a deep learning pipeline for automatic patent classification with multichannel inputs.  A neural network model is trained with multichannel inputs namely embeddings of different segments of patent texts, and sparse linear\n",
    "input of different metadata. <br> <br>\n",
    "<img src=\"arch_0000.png\" height=\"600\" width=\"700\">\n",
    "\n",
    "<br>\n",
    "In this notebook the classification task is a multi-class classification. The basic outline is:  <br>  <br>\n",
    "\n",
    "- load the patent dataset  <br>\n",
    "- apply preprocessing tasks  <br>\n",
    "- apply Tokenization process  <br>\n",
    "- Load a pretrained word embeddings model  <br>\n",
    "- prepare the embedding matrix for patent texts   <br>\n",
    "- concatenated deep layers <br>\n",
    "- train a deep neural network on the data  <br>\n",
    "- Fit the model and show the results  <br>\n"
   ]
  },
  {
   "cell_type": "markdown",
   "metadata": {},
   "source": [
    "#  Loading patent dataset\n",
    "We established the training, and test datasets that are domain-specific datasets and related to the information technology domain.\n",
    "The total number of extracted records in the datasets is about 430,000  patents filed between 1978 and 2016. Each patent document contains a  patent number, issued date, patent type, and list of citations, classification codes, a list of inventors, a list of assignees, title, abstract, technical field, background,  summary of invention, and independent claim. <br>\n",
    "The data det is availabe in https://www.kaggle.com/darshmso/it-patent-dataset \n",
    "    "
   ]
  },
  {
   "cell_type": "code",
   "execution_count": 1,
   "metadata": {
    "scrolled": true
   },
   "outputs": [
    {
     "data": {
      "text/html": [
       "<div>\n",
       "<style scoped>\n",
       "    .dataframe tbody tr th:only-of-type {\n",
       "        vertical-align: middle;\n",
       "    }\n",
       "\n",
       "    .dataframe tbody tr th {\n",
       "        vertical-align: top;\n",
       "    }\n",
       "\n",
       "    .dataframe thead th {\n",
       "        text-align: right;\n",
       "    }\n",
       "</style>\n",
       "<table border=\"1\" class=\"dataframe\">\n",
       "  <thead>\n",
       "    <tr style=\"text-align: right;\">\n",
       "      <th></th>\n",
       "      <th>ID</th>\n",
       "      <th>TI</th>\n",
       "      <th>AB</th>\n",
       "      <th>TECHF</th>\n",
       "      <th>BACKG</th>\n",
       "      <th>SUMM</th>\n",
       "      <th>CLMS</th>\n",
       "      <th>ICM</th>\n",
       "      <th>AY</th>\n",
       "      <th>IPC</th>\n",
       "      <th>REF</th>\n",
       "      <th>PA</th>\n",
       "      <th>INV</th>\n",
       "    </tr>\n",
       "  </thead>\n",
       "  <tbody>\n",
       "    <tr>\n",
       "      <th>0</th>\n",
       "      <td>EP2000017943-0</td>\n",
       "      <td>Recognition code, particularly for a disk-shap...</td>\n",
       "      <td>A recognition code, particularly for a disk-li...</td>\n",
       "      <td>[1] The present invention relates to a recogni...</td>\n",
       "      <td>[2] It is known that identification labels, ad...</td>\n",
       "      <td>[5] The aim of the present invention is to ove...</td>\n",
       "      <td></td>\n",
       "      <td>G06K0019-06</td>\n",
       "      <td>2000</td>\n",
       "      <td>[G06K0019-06, G06K0007-10]</td>\n",
       "      <td></td>\n",
       "      <td>[Video System Italia S.r.l.]</td>\n",
       "      <td>[Tassello  Stefano]</td>\n",
       "    </tr>\n",
       "    <tr>\n",
       "      <th>1</th>\n",
       "      <td>EP2003016733-0</td>\n",
       "      <td>Optical pickup apparatus for recording/reprodu...</td>\n",
       "      <td>An optical pickup apparatus for reproducing in...</td>\n",
       "      <td>[1] The present invention relates to an optica...</td>\n",
       "      <td>BACKGROUND OF THE INVENTION   [2] Recently, as...</td>\n",
       "      <td>SUMMARY OF THE INVENTION[11] An object of the ...</td>\n",
       "      <td>['An optical pickup apparatus for recording an...</td>\n",
       "      <td>G11B0007-135</td>\n",
       "      <td>2000</td>\n",
       "      <td>[G11B0007-135, G11B0007-125]</td>\n",
       "      <td></td>\n",
       "      <td>[Konica Minolta Opto  Inc.]</td>\n",
       "      <td>[Arai  Norikazu, Kojima  Toshiyuki, Kiriki  To...</td>\n",
       "    </tr>\n",
       "    <tr>\n",
       "      <th>2</th>\n",
       "      <td>EP2011009984-0</td>\n",
       "      <td>Large capacity data sales mediation system, se...</td>\n",
       "      <td>An animation data sales mediation method, an a...</td>\n",
       "      <td>[1] The present invention relates to large cap...</td>\n",
       "      <td>BACKGROUND OF THE INVENTION   Description of t...</td>\n",
       "      <td>SUMMARY OF THE INVENTION[20] The present inven...</td>\n",
       "      <td>['A large capacity data sales mediation system...</td>\n",
       "      <td>G07F0017-16</td>\n",
       "      <td>2001</td>\n",
       "      <td>[G07F0017-16, G06Q0030-06, G06Q0020-10, G06Q00...</td>\n",
       "      <td>[JPHEI033290B, JPHEI08235759B, JPHEI10334048B,...</td>\n",
       "      <td>[NEC Corporation]</td>\n",
       "      <td>[Maeda Koji]</td>\n",
       "    </tr>\n",
       "    <tr>\n",
       "      <th>3</th>\n",
       "      <td>PCT1997010546-0</td>\n",
       "      <td>BRIDGE FOR A CLIENT-SERVER ENVIRONMENT</td>\n",
       "      <td>A software bridge (300) is introduced between ...</td>\n",
       "      <td>1 BRIDGE FOR A CLIENT-SERVER ENVIRONMENT  Fiel...</td>\n",
       "      <td>Background of the Invention Overview of Object...</td>\n",
       "      <td>45 Disclosure of the Invention Accordingly the...</td>\n",
       "      <td>['1. A bridge (300) for use between a client (...</td>\n",
       "      <td>G06F009-46</td>\n",
       "      <td>1996</td>\n",
       "      <td>[G06F009-46, G06F009-44, G06F0009-44, G06F0009...</td>\n",
       "      <td></td>\n",
       "      <td>[INTERNATIONAL BUSINESS MACHINES CORPORATION, ...</td>\n",
       "      <td>[COLYER  ADRIAN  MARK]</td>\n",
       "    </tr>\n",
       "    <tr>\n",
       "      <th>4</th>\n",
       "      <td>PCT1998021641-0</td>\n",
       "      <td>PROCESSOR HAVING SECTIONS OPERATING AT DIFFERE...</td>\n",
       "      <td>A processor (250) including a first execution ...</td>\n",
       "      <td>PROCESSOR HAVING SECTIONS OPERATING AT DIFFERE...</td>\n",
       "      <td>Background of the Prior Art Fig. 1 illustrates...</td>\n",
       "      <td>SUMMARY OF THE INVENTION The invention provide...</td>\n",
       "      <td></td>\n",
       "      <td>G06F001-32</td>\n",
       "      <td>1997</td>\n",
       "      <td>[G06F001-32, G06F0001-08, G06F0009-30, G06F000...</td>\n",
       "      <td></td>\n",
       "      <td></td>\n",
       "      <td>[SAGER DAVID J, FLETCHER THOMAS D, HINTON GLEN...</td>\n",
       "    </tr>\n",
       "  </tbody>\n",
       "</table>\n",
       "</div>"
      ],
      "text/plain": [
       "                ID                                                 TI  \\\n",
       "0   EP2000017943-0  Recognition code, particularly for a disk-shap...   \n",
       "1   EP2003016733-0  Optical pickup apparatus for recording/reprodu...   \n",
       "2   EP2011009984-0  Large capacity data sales mediation system, se...   \n",
       "3  PCT1997010546-0             BRIDGE FOR A CLIENT-SERVER ENVIRONMENT   \n",
       "4  PCT1998021641-0  PROCESSOR HAVING SECTIONS OPERATING AT DIFFERE...   \n",
       "\n",
       "                                                  AB  \\\n",
       "0  A recognition code, particularly for a disk-li...   \n",
       "1  An optical pickup apparatus for reproducing in...   \n",
       "2  An animation data sales mediation method, an a...   \n",
       "3  A software bridge (300) is introduced between ...   \n",
       "4  A processor (250) including a first execution ...   \n",
       "\n",
       "                                               TECHF  \\\n",
       "0  [1] The present invention relates to a recogni...   \n",
       "1  [1] The present invention relates to an optica...   \n",
       "2  [1] The present invention relates to large cap...   \n",
       "3  1 BRIDGE FOR A CLIENT-SERVER ENVIRONMENT  Fiel...   \n",
       "4  PROCESSOR HAVING SECTIONS OPERATING AT DIFFERE...   \n",
       "\n",
       "                                               BACKG  \\\n",
       "0  [2] It is known that identification labels, ad...   \n",
       "1  BACKGROUND OF THE INVENTION   [2] Recently, as...   \n",
       "2  BACKGROUND OF THE INVENTION   Description of t...   \n",
       "3  Background of the Invention Overview of Object...   \n",
       "4  Background of the Prior Art Fig. 1 illustrates...   \n",
       "\n",
       "                                                SUMM  \\\n",
       "0  [5] The aim of the present invention is to ove...   \n",
       "1  SUMMARY OF THE INVENTION[11] An object of the ...   \n",
       "2  SUMMARY OF THE INVENTION[20] The present inven...   \n",
       "3  45 Disclosure of the Invention Accordingly the...   \n",
       "4  SUMMARY OF THE INVENTION The invention provide...   \n",
       "\n",
       "                                                CLMS           ICM    AY  \\\n",
       "0                                                      G06K0019-06  2000   \n",
       "1  ['An optical pickup apparatus for recording an...  G11B0007-135  2000   \n",
       "2  ['A large capacity data sales mediation system...   G07F0017-16  2001   \n",
       "3  ['1. A bridge (300) for use between a client (...    G06F009-46  1996   \n",
       "4                                                       G06F001-32  1997   \n",
       "\n",
       "                                                 IPC  \\\n",
       "0                         [G06K0019-06, G06K0007-10]   \n",
       "1                       [G11B0007-135, G11B0007-125]   \n",
       "2  [G07F0017-16, G06Q0030-06, G06Q0020-10, G06Q00...   \n",
       "3  [G06F009-46, G06F009-44, G06F0009-44, G06F0009...   \n",
       "4  [G06F001-32, G06F0001-08, G06F0009-30, G06F000...   \n",
       "\n",
       "                                                 REF  \\\n",
       "0                                                      \n",
       "1                                                      \n",
       "2  [JPHEI033290B, JPHEI08235759B, JPHEI10334048B,...   \n",
       "3                                                      \n",
       "4                                                      \n",
       "\n",
       "                                                  PA  \\\n",
       "0                       [Video System Italia S.r.l.]   \n",
       "1                        [Konica Minolta Opto  Inc.]   \n",
       "2                                  [NEC Corporation]   \n",
       "3  [INTERNATIONAL BUSINESS MACHINES CORPORATION, ...   \n",
       "4                                                      \n",
       "\n",
       "                                                 INV  \n",
       "0                                [Tassello  Stefano]  \n",
       "1  [Arai  Norikazu, Kojima  Toshiyuki, Kiriki  To...  \n",
       "2                                       [Maeda Koji]  \n",
       "3                             [COLYER  ADRIAN  MARK]  \n",
       "4  [SAGER DAVID J, FLETCHER THOMAS D, HINTON GLEN...  "
      ]
     },
     "execution_count": 1,
     "metadata": {},
     "output_type": "execute_result"
    }
   ],
   "source": [
    "import pandas as pd\n",
    "\n",
    "df = pd.read_csv(\"../datasets/allITPatTextWith_Metadata.csv\",  encoding = \"ISO-8859-1\", error_bad_lines=False)\n",
    "df.columns =['ID','TI','AB','TECHF','BACKG','SUMM','CLMS','ICM','AY','IPC','REF','PA','INV']\n",
    "\n",
    "df.dropna(subset=['ICM'], inplace=True)\n",
    "\n",
    "\n",
    "df.fillna(value='', inplace=True)\n",
    "\n",
    "df.head()"
   ]
  },
  {
   "cell_type": "code",
   "execution_count": 8,
   "metadata": {},
   "outputs": [
    {
     "data": {
      "text/plain": [
       "Text(0.5, 0, 'YEAR')"
      ]
     },
     "execution_count": 8,
     "metadata": {},
     "output_type": "execute_result"
    },
    {
     "data": {
      "image/png": "[encoded data removed]",
      "text/plain": [
       "<Figure size 1080x432 with 1 Axes>"
      ]
     },
     "metadata": {
      "needs_background": "light"
     },
     "output_type": "display_data"
    }
   ],
   "source": [
    "import matplotlib.pyplot as plt\n",
    "\n",
    "df_AY = df.groupby(['AY'])\n",
    "df_AY = df_AY.size().reset_index(name='Docs')\n",
    "\n",
    "\n",
    "df_AY.plot(x='AY', y='Docs', kind='bar', legend=False, grid=True, figsize=(15, 6))\n",
    "plt.title(\"Number of Docs per Year\")\n",
    "plt.ylabel('# of Patents', fontsize=13)\n",
    "plt.xlabel('YEAR', fontsize=12)"
   ]
  },
  {
   "cell_type": "markdown",
   "metadata": {},
   "source": [
    "# Applying preprocessing tasks on metadat of patent\n",
    "Converting the metatadata such as inventors and assignees of each patent into a python list, then apply preprocessing task on each element in the list in order to remove undesired tokens.\n"
   ]
  },
  {
   "cell_type": "code",
   "execution_count": 2,
   "metadata": {},
   "outputs": [
    {
     "name": "stdout",
     "output_type": "stream",
     "text": [
      "CPU times: user 2.46 s, sys: 70.6 ms, total: 2.53 s\n",
      "Wall time: 2.53 s\n"
     ]
    }
   ],
   "source": [
    "%%time\n",
    "#preprocess of list fields\n",
    "#convert all IPCs in df into one list\n",
    "def toList(s):\n",
    "    \"\"\"\n",
    "    this method is to convert the list of IPCs in each row from a string to a python List\n",
    "    \"\"\"\n",
    "    s  = s.translate ({ord(c): \" \" for c in \"[]\"})\n",
    "    ss= []\n",
    "    for cls in s.strip().split(','):\n",
    "        ss.append(cls.strip())\n",
    "    return ss\n",
    "\n",
    "#apply toList method on all rows in the DF\n",
    "df['PA'] = df['PA'].map(lambda pa :   toList(pa))\n",
    "df['INV'] = df['INV'].map(lambda inv :   toList(inv))\n",
    "\n",
    "df.head()  "
   ]
  },
  {
   "cell_type": "code",
   "execution_count": 3,
   "metadata": {},
   "outputs": [
    {
     "name": "stdout",
     "output_type": "stream",
     "text": [
      "CPU times: user 5.31 s, sys: 24.3 ms, total: 5.33 s\n",
      "Wall time: 5.34 s\n"
     ]
    }
   ],
   "source": [
    "%%time\n",
    "\n",
    "def metadataPreprocessing(input):\n",
    "    newInput=' '\n",
    "    for item in input:\n",
    "        item = item.translate ({ord(c): \" \" for c in \"!@#$%^&*()'[]{};:,./<>?\\|`~°=\\\"+\"})\n",
    "        itms=' '\n",
    "        for itm in item.split():\n",
    "            itms= itms +' '+itm.strip()\n",
    "        newInput = newInput + ' '+ itms.strip().replace(' ','_')\n",
    "    return newInput.strip()\n",
    "\n",
    "df['PA'] = df['PA'].map(lambda pa :   metadataPreprocessing(pa))\n",
    "df['INV'] = df['INV'].map(lambda inv :   metadataPreprocessing(inv))\n",
    "\n",
    "df.head()"
   ]
  },
  {
   "cell_type": "markdown",
   "metadata": {},
   "source": [
    "#  Applying preprocessing tasks on texts of patent\n",
    "A simple preprocessing tasks such as tokenization, stopword removal, lemmatization, and converting letters into lower case are performed on each text section of each patent document."
   ]
  },
  {
   "cell_type": "code",
   "execution_count": 4,
   "metadata": {},
   "outputs": [],
   "source": [
    "#preprocessing \n",
    "standardStopwordFile = \"sources/stopwords/stopwords-all.txt\"\n",
    "\n",
    "#loading terms from a file to a set\n",
    "def get_terms_from_file(filePath):\n",
    "    terms = set(line.strip() for line in open(filePath))\n",
    "    return terms\n",
    "\n",
    "#remove undiserd terms\n",
    "def remove_terms(termSet, phrase):\n",
    "    newPhrase = \"\"\n",
    "    for term in phrase.split():\n",
    "        if term.strip() not in termSet and len(term.strip())>2:\n",
    "            newPhrase = newPhrase + \" \" + term.strip()\n",
    "\n",
    "\n",
    "\n",
    "def clean_texts(doc):\n",
    "    #Remove punctuation from texts\n",
    "    doc = doc.translate ({ord(c): ' ' for c in \"0123456789!@#$%^&*()'/[]{};:,./<>?\\|`~°=\\\"+\"})\n",
    "    # split into tokens by white space\n",
    "    tokens = doc.lower().strip().split()\n",
    "    \n",
    "    # filter out stop words\n",
    "    stop_words = get_terms_from_file(standardStopwordFile)\n",
    "    #generalStopwords = get_terms_from_file(generalWordsFile)\n",
    "\n",
    "    \n",
    "    tokens = [w.strip('-')  for w in tokens if  w not in stop_words ]\n",
    "    # filter out short and long  tokens\n",
    "    output = [word for word in tokens if len(word.strip()) > 2 and len(word) < 30 ]\n",
    "    output = \" \".join(output)\n",
    "    #apply stemming\n",
    "    #output = stem_text(output)\n",
    "    return output\n",
    "\n"
   ]
  },
  {
   "cell_type": "code",
   "execution_count": 5,
   "metadata": {},
   "outputs": [
    {
     "name": "stdout",
     "output_type": "stream",
     "text": [
      "CPU times: user 309 µs, sys: 76 µs, total: 385 µs\n",
      "Wall time: 378 µs\n"
     ]
    },
    {
     "data": {
      "text/html": [
       "<div>\n",
       "<style scoped>\n",
       "    .dataframe tbody tr th:only-of-type {\n",
       "        vertical-align: middle;\n",
       "    }\n",
       "\n",
       "    .dataframe tbody tr th {\n",
       "        vertical-align: top;\n",
       "    }\n",
       "\n",
       "    .dataframe thead th {\n",
       "        text-align: right;\n",
       "    }\n",
       "</style>\n",
       "<table border=\"1\" class=\"dataframe\">\n",
       "  <thead>\n",
       "    <tr style=\"text-align: right;\">\n",
       "      <th></th>\n",
       "      <th>ID</th>\n",
       "      <th>TI</th>\n",
       "      <th>AB</th>\n",
       "      <th>TECHF</th>\n",
       "      <th>BACKG</th>\n",
       "      <th>SUMM</th>\n",
       "      <th>CLMS</th>\n",
       "      <th>ICM</th>\n",
       "      <th>AY</th>\n",
       "      <th>IPC</th>\n",
       "      <th>REF</th>\n",
       "      <th>PA</th>\n",
       "      <th>INV</th>\n",
       "    </tr>\n",
       "  </thead>\n",
       "  <tbody>\n",
       "    <tr>\n",
       "      <th>0</th>\n",
       "      <td>EP2000017943-0</td>\n",
       "      <td>recognition disk-shaped medium</td>\n",
       "      <td>recognition disk-like medium multimedia applic...</td>\n",
       "      <td>recognition disk-shaped medium multimedia appl...</td>\n",
       "      <td>identification labels adapted interpreted opti...</td>\n",
       "      <td>overcome drawbacks noted conventional types id...</td>\n",
       "      <td></td>\n",
       "      <td>G06K</td>\n",
       "      <td>2000.0</td>\n",
       "      <td>[G06K0019-06, G06K0007-10]</td>\n",
       "      <td></td>\n",
       "      <td>Video_System_Italia_S_r_l</td>\n",
       "      <td>Tassello_Stefano</td>\n",
       "    </tr>\n",
       "    <tr>\n",
       "      <th>1</th>\n",
       "      <td>EP2003016733-0</td>\n",
       "      <td>optical pickup recording reproducing</td>\n",
       "      <td>optical pickup reproducing optical recording m...</td>\n",
       "      <td>optical pickup recording reproducing optical p...</td>\n",
       "      <td>recently practical short wavelength red laser ...</td>\n",
       "      <td>provide pickup recording reproducing optical r...</td>\n",
       "      <td>optical pickup recording reproducing optical m...</td>\n",
       "      <td>G11B</td>\n",
       "      <td>2000.0</td>\n",
       "      <td>[G11B0007-135, G11B0007-125]</td>\n",
       "      <td></td>\n",
       "      <td>Konica_Minolta_Opto_Inc</td>\n",
       "      <td>Arai_Norikazu_Kojima_Toshiyuki_Kiriki_Toshihik...</td>\n",
       "    </tr>\n",
       "    <tr>\n",
       "      <th>2</th>\n",
       "      <td>EP2011009984-0</td>\n",
       "      <td>large capacity sales mediation</td>\n",
       "      <td>animation sales mediation animation sales medi...</td>\n",
       "      <td>large capacity sales large capacity sales medi...</td>\n",
       "      <td>recent years distributing music network rapidl...</td>\n",
       "      <td>implemented consideration problems provide ani...</td>\n",
       "      <td>large capacity sales mediation terminal large ...</td>\n",
       "      <td>G07F</td>\n",
       "      <td>2001.0</td>\n",
       "      <td>[G07F0017-16, G06Q0030-06, G06Q0020-10, G06Q00...</td>\n",
       "      <td>[JPHEI033290B, JPHEI08235759B, JPHEI10334048B,...</td>\n",
       "      <td>NEC_Corporation</td>\n",
       "      <td>Maeda_Koji</td>\n",
       "    </tr>\n",
       "    <tr>\n",
       "      <th>3</th>\n",
       "      <td>PCT1997010546-0</td>\n",
       "      <td>bridge client-server environment</td>\n",
       "      <td>software bridge introduced client client-serve...</td>\n",
       "      <td>bridge client-server environment distributed c...</td>\n",
       "      <td>overview object-oriented programming developme...</td>\n",
       "      <td>bridge client distributed object-oriented brid...</td>\n",
       "      <td>bridge client distributed object-oriented brid...</td>\n",
       "      <td>G06F</td>\n",
       "      <td>1996.0</td>\n",
       "      <td>[G06F009-46, G06F009-44, G06F0009-44, G06F0009...</td>\n",
       "      <td></td>\n",
       "      <td>INTERNATIONAL_BUSINESS_MACHINES_CORPORATION_CO...</td>\n",
       "      <td>COLYER_ADRIAN_MARK</td>\n",
       "    </tr>\n",
       "    <tr>\n",
       "      <th>4</th>\n",
       "      <td>PCT1998021641-0</td>\n",
       "      <td>sections operating rates</td>\n",
       "      <td>core clocked perform operations clock frequenc...</td>\n",
       "      <td>sections operating rates high speed processors...</td>\n",
       "      <td>illustrates microprocessor microprocessor incl...</td>\n",
       "      <td>microprocessor levels sub-core clocked frequen...</td>\n",
       "      <td></td>\n",
       "      <td>G06F</td>\n",
       "      <td>1997.0</td>\n",
       "      <td>[G06F001-32, G06F0001-08, G06F0009-30, G06F000...</td>\n",
       "      <td></td>\n",
       "      <td></td>\n",
       "      <td>SAGER_DAVID_J_FLETCHER_THOMAS_D_HINTON_GLENN_J...</td>\n",
       "    </tr>\n",
       "  </tbody>\n",
       "</table>\n",
       "</div>"
      ],
      "text/plain": [
       "                ID                                    TI  \\\n",
       "0   EP2000017943-0        recognition disk-shaped medium   \n",
       "1   EP2003016733-0  optical pickup recording reproducing   \n",
       "2   EP2011009984-0        large capacity sales mediation   \n",
       "3  PCT1997010546-0      bridge client-server environment   \n",
       "4  PCT1998021641-0              sections operating rates   \n",
       "\n",
       "                                                  AB  \\\n",
       "0  recognition disk-like medium multimedia applic...   \n",
       "1  optical pickup reproducing optical recording m...   \n",
       "2  animation sales mediation animation sales medi...   \n",
       "3  software bridge introduced client client-serve...   \n",
       "4  core clocked perform operations clock frequenc...   \n",
       "\n",
       "                                               TECHF  \\\n",
       "0  recognition disk-shaped medium multimedia appl...   \n",
       "1  optical pickup recording reproducing optical p...   \n",
       "2  large capacity sales large capacity sales medi...   \n",
       "3  bridge client-server environment distributed c...   \n",
       "4  sections operating rates high speed processors...   \n",
       "\n",
       "                                               BACKG  \\\n",
       "0  identification labels adapted interpreted opti...   \n",
       "1  recently practical short wavelength red laser ...   \n",
       "2  recent years distributing music network rapidl...   \n",
       "3  overview object-oriented programming developme...   \n",
       "4  illustrates microprocessor microprocessor incl...   \n",
       "\n",
       "                                                SUMM  \\\n",
       "0  overcome drawbacks noted conventional types id...   \n",
       "1  provide pickup recording reproducing optical r...   \n",
       "2  implemented consideration problems provide ani...   \n",
       "3  bridge client distributed object-oriented brid...   \n",
       "4  microprocessor levels sub-core clocked frequen...   \n",
       "\n",
       "                                                CLMS   ICM      AY  \\\n",
       "0                                                     G06K  2000.0   \n",
       "1  optical pickup recording reproducing optical m...  G11B  2000.0   \n",
       "2  large capacity sales mediation terminal large ...  G07F  2001.0   \n",
       "3  bridge client distributed object-oriented brid...  G06F  1996.0   \n",
       "4                                                     G06F  1997.0   \n",
       "\n",
       "                                                 IPC  \\\n",
       "0                         [G06K0019-06, G06K0007-10]   \n",
       "1                       [G11B0007-135, G11B0007-125]   \n",
       "2  [G07F0017-16, G06Q0030-06, G06Q0020-10, G06Q00...   \n",
       "3  [G06F009-46, G06F009-44, G06F0009-44, G06F0009...   \n",
       "4  [G06F001-32, G06F0001-08, G06F0009-30, G06F000...   \n",
       "\n",
       "                                                 REF  \\\n",
       "0                                                      \n",
       "1                                                      \n",
       "2  [JPHEI033290B, JPHEI08235759B, JPHEI10334048B,...   \n",
       "3                                                      \n",
       "4                                                      \n",
       "\n",
       "                                                  PA  \\\n",
       "0                          Video_System_Italia_S_r_l   \n",
       "1                            Konica_Minolta_Opto_Inc   \n",
       "2                                    NEC_Corporation   \n",
       "3  INTERNATIONAL_BUSINESS_MACHINES_CORPORATION_CO...   \n",
       "4                                                      \n",
       "\n",
       "                                                 INV  \n",
       "0                                   Tassello_Stefano  \n",
       "1  Arai_Norikazu_Kojima_Toshiyuki_Kiriki_Toshihik...  \n",
       "2                                         Maeda_Koji  \n",
       "3                                 COLYER_ADRIAN_MARK  \n",
       "4  SAGER_DAVID_J_FLETCHER_THOMAS_D_HINTON_GLENN_J...  "
      ]
     },
     "execution_count": 5,
     "metadata": {},
     "output_type": "execute_result"
    }
   ],
   "source": [
    "%%time\n",
    "apply simple preprocessing on text\n",
    "df['TI'] = df['TI'].map(lambda line : clean_texts(line))\n",
    "df['AB'] = df['AB'].map(lambda line : clean_texts(line))\n",
    "df['TECHF'] = df['TECHF'].map(lambda line : clean_texts(line))\n",
    "df['BACKG'] = df['BACKG'].map(lambda line : clean_texts(line))\n",
    "df['SUMM'] = df['SUMM'].map(lambda line : clean_texts(line))\n",
    "df['CLMS'] = df['CLMS'].map(lambda line : clean_texts(line))\n",
    "\n",
    "\n",
    "df.head()"
   ]
  },
  {
   "cell_type": "markdown",
   "metadata": {},
   "source": [
    "#  Applying preprocessing tasks for patent labels (main IPC codes)\n",
    "The main IPC codes is considered to be the labels for the patent documents. we only consider the subclass level of the IPC code. \n",
    "Each label/class has at least more than 500 documents."
   ]
  },
  {
   "cell_type": "code",
   "execution_count": 6,
   "metadata": {},
   "outputs": [
    {
     "name": "stdout",
     "output_type": "stream",
     "text": [
      "42\n",
      "number of remaining documents in the dataset is:  403726\n",
      "Number of unique labels is:  42\n"
     ]
    }
   ],
   "source": [
    "#process the ICM codes and #related-patents\n",
    "df['ICM'] = df['ICM'].map(lambda icmCode : icmCode[:4])  \n",
    "\n",
    "df_ICMs = df.groupby(['ICM'])\n",
    "df_ICMs = df_ICMs.size().reset_index(name='Docs')\n",
    "\n",
    "print(len(df_ICMs.ICM.unique()))\n",
    "#filter out the rows with #docs less than N documents\n",
    "df_ICMOut =  df_ICMs[df_ICMs['Docs'] >= 500]\n",
    "\n",
    "#filter out rows of the original dataframe df accordding to df_ICMOut\n",
    "ICMList = df_ICMOut['ICM'].tolist()\n",
    "df = df[df.ICM.isin(ICMList)]\n",
    "\n",
    "icmCount = df_ICMs.count().tolist()[0]\n",
    "\n",
    "print( 'number of remaining documents in the dataset is: ',len(df))\n",
    "\n",
    "print('Number of unique labels is: ', len(df.ICM.unique()))"
   ]
  },
  {
   "cell_type": "markdown",
   "metadata": {},
   "source": [
    "# Randomly reorder a dataset by rows"
   ]
  },
  {
   "cell_type": "code",
   "execution_count": 7,
   "metadata": {},
   "outputs": [
    {
     "data": {
      "text/html": [
       "<div>\n",
       "<style scoped>\n",
       "    .dataframe tbody tr th:only-of-type {\n",
       "        vertical-align: middle;\n",
       "    }\n",
       "\n",
       "    .dataframe tbody tr th {\n",
       "        vertical-align: top;\n",
       "    }\n",
       "\n",
       "    .dataframe thead th {\n",
       "        text-align: right;\n",
       "    }\n",
       "</style>\n",
       "<table border=\"1\" class=\"dataframe\">\n",
       "  <thead>\n",
       "    <tr style=\"text-align: right;\">\n",
       "      <th></th>\n",
       "      <th>ID</th>\n",
       "      <th>TI</th>\n",
       "      <th>AB</th>\n",
       "      <th>TECHF</th>\n",
       "      <th>BACKG</th>\n",
       "      <th>SUMM</th>\n",
       "      <th>CLMS</th>\n",
       "      <th>ICM</th>\n",
       "      <th>AY</th>\n",
       "      <th>IPC</th>\n",
       "      <th>REF</th>\n",
       "      <th>PA</th>\n",
       "      <th>INV</th>\n",
       "    </tr>\n",
       "  </thead>\n",
       "  <tbody>\n",
       "    <tr>\n",
       "      <th>62459</th>\n",
       "      <td>PCT2012055768-0</td>\n",
       "      <td>controlling rotary speed</td>\n",
       "      <td>controlling rotary speed pulse-width modulated...</td>\n",
       "      <td>concerns drehzahlregeÃ£ÂÃ¢Â¬ lung pulse-far-m...</td>\n",
       "      <td>speed regulation</td>\n",
       "      <td>describe improved speed regulation pulse-far-m...</td>\n",
       "      <td></td>\n",
       "      <td>G06F</td>\n",
       "      <td>2011.0</td>\n",
       "      <td>[G06F0001-20, H05K0007-20]</td>\n",
       "      <td></td>\n",
       "      <td></td>\n",
       "      <td>BUSCH_Peter</td>\n",
       "    </tr>\n",
       "    <tr>\n",
       "      <th>87947</th>\n",
       "      <td>PCT2011077221-0</td>\n",
       "      <td>electric power supply</td>\n",
       "      <td>electric power supply common power supply stor...</td>\n",
       "      <td>buildings power supply distribute electric pow...</td>\n",
       "      <td>power supply</td>\n",
       "      <td>defined building areas laid power network buil...</td>\n",
       "      <td></td>\n",
       "      <td>H02J</td>\n",
       "      <td>2010.0</td>\n",
       "      <td>[H02J0003-38, H02J0003-46, H02J0007-35, G06Q00...</td>\n",
       "      <td></td>\n",
       "      <td></td>\n",
       "      <td>TAKEHARA_Kiyotaka_NAKAKITA_Kenji</td>\n",
       "    </tr>\n",
       "    <tr>\n",
       "      <th>18014</th>\n",
       "      <td>EP2016068104-0</td>\n",
       "      <td>controlling tasks performed computing</td>\n",
       "      <td>controlling tasks includes receiving ordering ...</td>\n",
       "      <td>controlling tasks performed computing</td>\n",
       "      <td>techniques controlling tasks performed computi...</td>\n",
       "      <td>defined independent directed features dependen...</td>\n",
       "      <td>performing tasks storing memory instructions p...</td>\n",
       "      <td>G06F</td>\n",
       "      <td>2014.0</td>\n",
       "      <td>[G06F0009-44, G06F0009-48]</td>\n",
       "      <td></td>\n",
       "      <td>AB_Initio_Technology_LLC</td>\n",
       "      <td>STANFILL_Craig</td>\n",
       "    </tr>\n",
       "    <tr>\n",
       "      <th>84133</th>\n",
       "      <td>PCT2002013564-0</td>\n",
       "      <td>simplifying exchange sim card subscribers mobi...</td>\n",
       "      <td>simplifying exchange sim card subscribers mobi...</td>\n",
       "      <td>simplified sim map participants mobile net con...</td>\n",
       "      <td>portable radio products portable radio service...</td>\n",
       "      <td>consists suggesting simplified sim map partici...</td>\n",
       "      <td>procedures simplified sim map participants mob...</td>\n",
       "      <td>H04Q</td>\n",
       "      <td>2001.0</td>\n",
       "      <td>[H04Q007-38, H04W0008-26]</td>\n",
       "      <td></td>\n",
       "      <td>DETEMOBIL_DEUTSCHE_TELEKOM_MOBILNET_GMBH</td>\n",
       "      <td>REEMTSMA_Jan-Hinnerk</td>\n",
       "    </tr>\n",
       "    <tr>\n",
       "      <th>131689</th>\n",
       "      <td>EP2009025035-0</td>\n",
       "      <td>conversion services applications based applica...</td>\n",
       "      <td>converting page-based based configured configu...</td>\n",
       "      <td>transformation applications services network</td>\n",
       "      <td>continually devices today two-way devices mobi...</td>\n",
       "      <td></td>\n",
       "      <td>enabling computing interact generic schema def...</td>\n",
       "      <td>G06F</td>\n",
       "      <td>2005.0</td>\n",
       "      <td>[G06F0017-30, G06F0009-44]</td>\n",
       "      <td>[WO2004059957A]</td>\n",
       "      <td>RESEARCH_IN_MOTION_LIMITED</td>\n",
       "      <td>Shenfield_Michael</td>\n",
       "    </tr>\n",
       "  </tbody>\n",
       "</table>\n",
       "</div>"
      ],
      "text/plain": [
       "                     ID                                                 TI  \\\n",
       "62459   PCT2012055768-0                           controlling rotary speed   \n",
       "87947   PCT2011077221-0                              electric power supply   \n",
       "18014    EP2016068104-0              controlling tasks performed computing   \n",
       "84133   PCT2002013564-0  simplifying exchange sim card subscribers mobi...   \n",
       "131689   EP2009025035-0  conversion services applications based applica...   \n",
       "\n",
       "                                                       AB  \\\n",
       "62459   controlling rotary speed pulse-width modulated...   \n",
       "87947   electric power supply common power supply stor...   \n",
       "18014   controlling tasks includes receiving ordering ...   \n",
       "84133   simplifying exchange sim card subscribers mobi...   \n",
       "131689  converting page-based based configured configu...   \n",
       "\n",
       "                                                    TECHF  \\\n",
       "62459   concerns drehzahlregeÃ£ÂÃ¢Â¬ lung pulse-far-m...   \n",
       "87947   buildings power supply distribute electric pow...   \n",
       "18014               controlling tasks performed computing   \n",
       "84133   simplified sim map participants mobile net con...   \n",
       "131689       transformation applications services network   \n",
       "\n",
       "                                                    BACKG  \\\n",
       "62459                                    speed regulation   \n",
       "87947                                        power supply   \n",
       "18014   techniques controlling tasks performed computi...   \n",
       "84133   portable radio products portable radio service...   \n",
       "131689  continually devices today two-way devices mobi...   \n",
       "\n",
       "                                                     SUMM  \\\n",
       "62459   describe improved speed regulation pulse-far-m...   \n",
       "87947   defined building areas laid power network buil...   \n",
       "18014   defined independent directed features dependen...   \n",
       "84133   consists suggesting simplified sim map partici...   \n",
       "131689                                                      \n",
       "\n",
       "                                                     CLMS   ICM      AY  \\\n",
       "62459                                                      G06F  2011.0   \n",
       "87947                                                      H02J  2010.0   \n",
       "18014   performing tasks storing memory instructions p...  G06F  2014.0   \n",
       "84133   procedures simplified sim map participants mob...  H04Q  2001.0   \n",
       "131689  enabling computing interact generic schema def...  G06F  2005.0   \n",
       "\n",
       "                                                      IPC              REF  \\\n",
       "62459                          [G06F0001-20, H05K0007-20]                    \n",
       "87947   [H02J0003-38, H02J0003-46, H02J0007-35, G06Q00...                    \n",
       "18014                          [G06F0009-44, G06F0009-48]                    \n",
       "84133                           [H04Q007-38, H04W0008-26]                    \n",
       "131689                         [G06F0017-30, G06F0009-44]  [WO2004059957A]   \n",
       "\n",
       "                                              PA  \\\n",
       "62459                                              \n",
       "87947                                              \n",
       "18014                   AB_Initio_Technology_LLC   \n",
       "84133   DETEMOBIL_DEUTSCHE_TELEKOM_MOBILNET_GMBH   \n",
       "131689                RESEARCH_IN_MOTION_LIMITED   \n",
       "\n",
       "                                     INV  \n",
       "62459                        BUSCH_Peter  \n",
       "87947   TAKEHARA_Kiyotaka_NAKAKITA_Kenji  \n",
       "18014                     STANFILL_Craig  \n",
       "84133               REEMTSMA_Jan-Hinnerk  \n",
       "131689                 Shenfield_Michael  "
      ]
     },
     "execution_count": 7,
     "metadata": {},
     "output_type": "execute_result"
    }
   ],
   "source": [
    "from sklearn.utils import shuffle\n",
    "\n",
    "df = shuffle(df)\n",
    "\n",
    "df.head()"
   ]
  },
  {
   "cell_type": "markdown",
   "metadata": {},
   "source": [
    "# split the dataset into train and test datasets"
   ]
  },
  {
   "cell_type": "code",
   "execution_count": 8,
   "metadata": {},
   "outputs": [
    {
     "name": "stdout",
     "output_type": "stream",
     "text": [
      "(322980,)\n",
      "(80746,)\n"
     ]
    }
   ],
   "source": [
    "# lets take n% data as training and remaining m% for test.\n",
    "train_size = int(len(df) * .8)\n",
    "\n",
    "train_TI = df['TI'][:train_size]\n",
    "train_AB = df['AB'][:train_size]\n",
    "train_TECHF = df['TECHF'][:train_size]\n",
    "train_BACKG = df['BACKG'][:train_size]\n",
    "train_SUMM = df['SUMM'][:train_size]\n",
    "train_CLMS = df['CLMS'][:train_size]\n",
    "train_ICM= df['ICM'][:train_size]\n",
    "train_ID= df['ID'][:train_size]\n",
    "\n",
    "test_TI = df['TI'][train_size:]\n",
    "test_AB = df['AB'][train_size:]\n",
    "test_TECHF = df['TECHF'][train_size:]\n",
    "test_BACKG = df['BACKG'][train_size:]\n",
    "test_SUMM = df['SUMM'][train_size:]\n",
    "test_CLMS = df['CLMS'][train_size:]\n",
    "test_ICM = df['ICM'][train_size:]\n",
    "test_ID = df['ID'][train_size:]\n",
    "\n",
    "\n",
    "#metadata\n",
    "train_pa_series = df['PA'][:train_size]\n",
    "test_pa_series = df['PA'][train_size:]\n",
    "\n",
    "train_inv_series = df['INV'][:train_size]\n",
    "test_inv_series = df['INV'][train_size:]\n",
    "\n",
    "\n",
    "print(train_AB.shape)\n",
    "print(test_AB.shape)\n",
    "\n",
    "#free up some memory space\n",
    "#df.iloc[0:0]"
   ]
  },
  {
   "cell_type": "markdown",
   "metadata": {},
   "source": [
    "#  Applying tokenization process \n",
    "For texts of each segment, a Keras tokenization process is used for breaking the text into individual words, and  set the sequence length of each segment according to the length of each.\n"
   ]
  },
  {
   "cell_type": "code",
   "execution_count": 9,
   "metadata": {},
   "outputs": [
    {
     "name": "stderr",
     "output_type": "stream",
     "text": [
      "Using TensorFlow backend.\n"
     ]
    }
   ],
   "source": [
    "from keras.preprocessing.text import Tokenizer\n",
    "from keras.utils import to_categorical\n",
    "from keras.preprocessing.sequence import pad_sequences\n",
    "from keras.preprocessing.text import one_hot\n",
    "from sklearn.preprocessing import LabelBinarizer\n"
   ]
  },
  {
   "cell_type": "markdown",
   "metadata": {},
   "source": [
    "Applying Keras tokenization on Metadata of patent(Inventors, Assignees), and convert the related text into One-hot that encodes a text into a list of word indexes of size n."
   ]
  },
  {
   "cell_type": "code",
   "execution_count": 10,
   "metadata": {},
   "outputs": [
    {
     "name": "stdout",
     "output_type": "stream",
     "text": [
      "Found 88383 words in PA\n",
      "Found 253812 words in INV\n"
     ]
    }
   ],
   "source": [
    "#PA\n",
    "pa_inv_vocab_size = 2000\n",
    "pa_tokenizer = Tokenizer(num_words=pa_inv_vocab_size,  filters='!\"#$%&()*+,./:;<=>?@[\\]^`{|}~', lower=True, split=' ', char_level=False, oov_token=None)\n",
    "pa_tokenizer.fit_on_texts(train_pa_series)\n",
    "train_pa_one_hot =pa_tokenizer.texts_to_matrix(train_pa_series)\n",
    "test_pa_one_hot =pa_tokenizer.texts_to_matrix(test_pa_series)\n",
    "\n",
    "\n",
    "#INV\n",
    "inv_tokenizer = Tokenizer(num_words=pa_inv_vocab_size,  filters='!\"#$%&()*+,./:;<=>?@[\\]^`{|}~', lower=True, split=' ', char_level=False, oov_token=None)\n",
    "inv_tokenizer.fit_on_texts(train_inv_series)\n",
    "train_inv_one_hot =inv_tokenizer.texts_to_matrix(train_inv_series)\n",
    "test_inv_one_hot =inv_tokenizer.texts_to_matrix(test_inv_series)\n",
    "\n",
    "\n",
    "print('Found %s words in PA' % len(pa_tokenizer.word_index))\n",
    "print('Found %s words in INV' % len(inv_tokenizer.word_index))"
   ]
  },
  {
   "cell_type": "markdown",
   "metadata": {},
   "source": [
    "<br>\n",
    "-  Transform each text in Titles (train and test datasets) into a sequence of integers. <br>\n",
    "-  set the sequence length.<br>\n",
    "-  Pads sequences to the same length.<br>\n",
    "\n"
   ]
  },
  {
   "cell_type": "code",
   "execution_count": 11,
   "metadata": {},
   "outputs": [
    {
     "name": "stdout",
     "output_type": "stream",
     "text": [
      "CPU times: user 9.92 s, sys: 51.7 ms, total: 9.97 s\n",
      "Wall time: 9.98 s\n"
     ]
    }
   ],
   "source": [
    "%%time\n",
    "\n",
    "#Title\n",
    "TI_tokenizer = Tokenizer(num_words=10000,  filters='!\"#$%&()*+,./:;<=>?@[\\]^`{|}~_', lower=True, split=' ', char_level=False, oov_token=None)\n",
    "TI_tokenizer.fit_on_texts(train_TI)\n",
    "encoded_train_TI = TI_tokenizer.texts_to_sequences(train_TI)\n",
    "encoded_test_TI = TI_tokenizer.texts_to_sequences(test_TI)\n",
    "#convert all sequences in a list into the same length\n",
    "TI_train = pad_sequences(encoded_train_TI,  maxlen=20, padding='post')\n",
    "TI_test = pad_sequences(encoded_test_TI,  maxlen=20, padding='post')\n"
   ]
  },
  {
   "cell_type": "markdown",
   "metadata": {},
   "source": [
    "<br>\n",
    "Transform each text in Abstrcat (train and test datasets) into a sequence of integers. <br>\n",
    "set the sequence length.<br>\n",
    "Pads sequences to the same length.<br>\n",
    "\n"
   ]
  },
  {
   "cell_type": "code",
   "execution_count": 12,
   "metadata": {},
   "outputs": [
    {
     "name": "stdout",
     "output_type": "stream",
     "text": [
      "CPU times: user 27.4 s, sys: 253 ms, total: 27.6 s\n",
      "Wall time: 27.7 s\n"
     ]
    }
   ],
   "source": [
    "%%time\n",
    "#Abstract\n",
    "AB_tokenizer = Tokenizer(num_words=50000,  filters='!\"#$%&()*+,./:;<=>?@[\\]^`{|}~_', lower=True, split=' ', char_level=False, oov_token=None)\n",
    "AB_tokenizer.fit_on_texts(train_AB)\n",
    "encoded_train_AB = AB_tokenizer.texts_to_sequences(train_AB)\n",
    "encoded_test_AB = AB_tokenizer.texts_to_sequences(test_AB)\n",
    "#convert all sequences in a list into the same length\n",
    "AB_train = pad_sequences(encoded_train_AB,  maxlen=100, padding='post')\n",
    "AB_test = pad_sequences(encoded_test_AB,  maxlen=100, padding='post')\n"
   ]
  },
  {
   "cell_type": "markdown",
   "metadata": {},
   "source": [
    "<br>\n",
    "Transform each text in Technical Field (train and test datasets) into a sequence of integers. <br>\n",
    "set the sequence length.<br>\n",
    "Pads sequences to the same length.<br>\n",
    "\n"
   ]
  },
  {
   "cell_type": "code",
   "execution_count": 13,
   "metadata": {},
   "outputs": [
    {
     "name": "stdout",
     "output_type": "stream",
     "text": [
      "CPU times: user 17.7 s, sys: 175 ms, total: 17.9 s\n",
      "Wall time: 17.9 s\n"
     ]
    }
   ],
   "source": [
    "%%time\n",
    "#TECHNICAL_FIELD\n",
    "TECHF_tokenizer = Tokenizer(num_words=20000,  filters='!\"#$%&()*+,./:;<=>?@[\\]^`{|}~_', lower=True, split=' ', char_level=False, oov_token=None)\n",
    "TECHF_tokenizer.fit_on_texts(train_TECHF)\n",
    "encoded_train_TECHF = TECHF_tokenizer.texts_to_sequences(train_TECHF)\n",
    "encoded_test_TECHF = TECHF_tokenizer.texts_to_sequences(test_TECHF)\n",
    "#convert all sequences in a list into the same length\n",
    "TECHF_train = pad_sequences(encoded_train_TECHF,  maxlen=30, padding='post')\n",
    "TECHF_test = pad_sequences(encoded_test_TECHF,  maxlen=30, padding='post')\n"
   ]
  },
  {
   "cell_type": "markdown",
   "metadata": {},
   "source": [
    "<br>\n",
    "Transform each text in Background (train and test datasets) into a sequence of integers. <br>\n",
    "set the sequence length.<br>\n",
    "Pads sequences to the same length.<br>\n",
    "\n"
   ]
  },
  {
   "cell_type": "code",
   "execution_count": 14,
   "metadata": {},
   "outputs": [
    {
     "name": "stdout",
     "output_type": "stream",
     "text": [
      "CPU times: user 1min 56s, sys: 1.09 s, total: 1min 57s\n",
      "Wall time: 1min 58s\n"
     ]
    }
   ],
   "source": [
    "%%time\n",
    "#BACKGROUND\n",
    "BACKG_tokenizer = Tokenizer(num_words=50000,  filters='!\"#$%&()*+,./:;<=>?@[\\]^`{|}~_', lower=True, split=' ', char_level=False, oov_token=None)\n",
    "BACKG_tokenizer.fit_on_texts(train_BACKG)\n",
    "encoded_train_BACKG = BACKG_tokenizer.texts_to_sequences(train_BACKG)\n",
    "encoded_test_BACKG = BACKG_tokenizer.texts_to_sequences(test_BACKG)\n",
    "#convert all sequences in a list into the same length\n",
    "BACKG_train = pad_sequences(encoded_train_BACKG,  maxlen=100, padding='post')\n",
    "BACKG_test = pad_sequences(encoded_test_BACKG,  maxlen=100, padding='post')\n"
   ]
  },
  {
   "cell_type": "markdown",
   "metadata": {},
   "source": [
    "<br>\n",
    "Transform each text in Summary (train and test datasets) into a sequence of integers. <br>\n",
    "set the sequence length.<br>\n",
    "Pads sequences to the same length.<br>\n",
    "\n"
   ]
  },
  {
   "cell_type": "code",
   "execution_count": 15,
   "metadata": {},
   "outputs": [
    {
     "name": "stdout",
     "output_type": "stream",
     "text": [
      "CPU times: user 2min 37s, sys: 1.51 s, total: 2min 38s\n",
      "Wall time: 2min 38s\n"
     ]
    }
   ],
   "source": [
    "%%time\n",
    "#SUMMARY\n",
    "SUMM_tokenizer = Tokenizer(num_words=50000,  filters='!\"#$%&()*+,./:;<=>?@[\\]^`{|}~_', lower=True, split=' ', char_level=False, oov_token=None)\n",
    "SUMM_tokenizer.fit_on_texts(train_SUMM)\n",
    "encoded_train_SUMM = SUMM_tokenizer.texts_to_sequences(train_SUMM)\n",
    "encoded_test_SUMM = SUMM_tokenizer.texts_to_sequences(test_SUMM)\n",
    "#convert all sequences in a list into the same length\n",
    "SUMM_train = pad_sequences(encoded_train_SUMM,  maxlen=100, padding='post')\n",
    "SUMM_test = pad_sequences(encoded_test_SUMM,  maxlen=100, padding='post')\n"
   ]
  },
  {
   "cell_type": "markdown",
   "metadata": {},
   "source": [
    "<br>\n",
    "Transform each text in Independent Claim (train and test datasets) into a sequence of integers. <br>\n",
    "set the sequence length.<br>\n",
    "Pads sequences to the same length.<br>\n",
    "\n"
   ]
  },
  {
   "cell_type": "code",
   "execution_count": 16,
   "metadata": {},
   "outputs": [
    {
     "name": "stdout",
     "output_type": "stream",
     "text": [
      "CPU times: user 37.8 s, sys: 697 ms, total: 38.5 s\n",
      "Wall time: 38.6 s\n"
     ]
    }
   ],
   "source": [
    "%%time\n",
    "#CLAIMS\n",
    "CLMS_tokenizer = Tokenizer(num_words=50000,  filters='!\"#$%&()*+,./:;<=>?@[\\]^`{|}~_', lower=True, split=' ', char_level=False, oov_token=None)\n",
    "CLMS_tokenizer.fit_on_texts(train_CLMS)\n",
    "encoded_train_CLMS = CLMS_tokenizer.texts_to_sequences(train_CLMS)\n",
    "encoded_test_CLMS = CLMS_tokenizer.texts_to_sequences(test_CLMS)\n",
    "#convert all sequences in a list into the same length\n",
    "CLMS_train = pad_sequences(encoded_train_CLMS,  maxlen=100, padding='post')\n",
    "CLMS_test = pad_sequences(encoded_test_CLMS,  maxlen=100, padding='post')\n"
   ]
  },
  {
   "cell_type": "markdown",
   "metadata": {},
   "source": [
    "# Pre-processing Output Labels / Classes\n",
    " we  need to make sure our labels are represented in the numeric format accepted by neural network model.  We need to convert our labels to one hot vector. <br>\n",
    "\n",
    "scikit-learn has a LabelBinarizer class which makes it easy to build these one-hot vectors."
   ]
  },
  {
   "cell_type": "code",
   "execution_count": 17,
   "metadata": {},
   "outputs": [
    {
     "name": "stdout",
     "output_type": "stream",
     "text": [
      "CPU times: user 2.54 s, sys: 66.8 ms, total: 2.6 s\n",
      "Wall time: 2.6 s\n"
     ]
    }
   ],
   "source": [
    "%%time\n",
    "# \n",
    "encoder = LabelBinarizer()\n",
    "encoder.fit(train_ICM)\n",
    "y_train = encoder.transform(train_ICM)\n",
    "y_test = encoder.transform(test_ICM)\n",
    "\n",
    "#get the unique number of labels in the training set\n",
    "classesList = train_ICM.tolist()\n",
    "classesList =set(classesList)\n",
    "num_classes = len(classesList)"
   ]
  },
  {
   "cell_type": "markdown",
   "metadata": {},
   "source": [
    "#  load the whole embeddings model into memory and get matrix\n",
    "We load a pre-trained word2vec word embedding model that was trained on five million patents (Titles and abstracts)<br>\n",
    "\n",
    "The Embeddings model is availabel <a href=https://www.kaggle.com/darshmso/w2vec-patent-domain > here.</a>"
   ]
  },
  {
   "cell_type": "code",
   "execution_count": 18,
   "metadata": {},
   "outputs": [],
   "source": [
    "import numpy as np\n",
    "\n",
    "def load_embedding_model(filePath):\n",
    "    embeddings_index = dict()\n",
    "    f = open(filePath, encoding='utf8')\n",
    "    for line in f:\n",
    "        values = line.split()\n",
    "        word = values[0]\n",
    "        coefs = np.asarray(values[1:], dtype='float32')\n",
    "        embeddings_index[word] = coefs\n",
    "        \n",
    "    return embeddings_index\n",
    "\n",
    "def create_embedding_matrix(tokenizer, embeddings_index, vocab_size_embbs, dim_size):\n",
    "    embeddings_matrix = np.zeros((vocab_size_embbs, dim_size))\n",
    "    for word, i in tokenizer.word_index.items():\n",
    "        embedding_vector = embeddings_index.get(word)\n",
    "        if embedding_vector is not None:\n",
    "            embeddings_matrix[i] = embedding_vector[0:dim_size]\n",
    "    \n",
    "    return embeddings_matrix\n"
   ]
  },
  {
   "cell_type": "markdown",
   "metadata": {},
   "source": [
    " Loading the whole embedding into memory and get matrix"
   ]
  },
  {
   "cell_type": "code",
   "execution_count": 19,
   "metadata": {},
   "outputs": [
    {
     "name": "stdout",
     "output_type": "stream",
     "text": [
      "CPU times: user 1min 28s, sys: 2.77 s, total: 1min 31s\n",
      "Wall time: 1min 31s\n"
     ]
    }
   ],
   "source": [
    "%%time\n",
    "\n",
    "embedding_index = load_embedding_model('../models/w2v/phrase/patWordPhrase2VecModel.txt')\n"
   ]
  },
  {
   "cell_type": "markdown",
   "metadata": {},
   "source": [
    "<br>\n",
    "Creating TITLE embeddings Matrix"
   ]
  },
  {
   "cell_type": "code",
   "execution_count": 20,
   "metadata": {},
   "outputs": [
    {
     "name": "stdout",
     "output_type": "stream",
     "text": [
      "CPU times: user 85 ms, sys: 56.9 ms, total: 142 ms\n",
      "Wall time: 140 ms\n"
     ]
    }
   ],
   "source": [
    "%%time\n",
    "\n",
    "#vocab_size for embedding\n",
    "vocab_size_embb = len(TI_tokenizer.word_index) + 1\n",
    "\n",
    "TI_embeddings_matrix = create_embedding_matrix(TI_tokenizer,\n",
    "                                              embedding_index,\n",
    "                                              vocab_size_embb,\n",
    "                                              20)\n",
    "\n",
    "\n"
   ]
  },
  {
   "cell_type": "markdown",
   "metadata": {},
   "source": [
    "\n",
    "Creating ABSTRACT embeddings Matrix"
   ]
  },
  {
   "cell_type": "code",
   "execution_count": 21,
   "metadata": {},
   "outputs": [
    {
     "name": "stdout",
     "output_type": "stream",
     "text": [
      "CPU times: user 256 ms, sys: 126 ms, total: 382 ms\n",
      "Wall time: 382 ms\n"
     ]
    }
   ],
   "source": [
    "%%time\n",
    "\n",
    "#vocab_size for embedding\n",
    "vocab_size_embb = len(AB_tokenizer.word_index) + 1\n",
    "AB_embeddings_matrix = create_embedding_matrix(AB_tokenizer,\n",
    "                                              embedding_index,\n",
    "                                              vocab_size_embb,\n",
    "                                              100)\n"
   ]
  },
  {
   "cell_type": "markdown",
   "metadata": {},
   "source": [
    "Creating TECHNICAL_FIELD embeddings Matrix"
   ]
  },
  {
   "cell_type": "code",
   "execution_count": 22,
   "metadata": {},
   "outputs": [
    {
     "name": "stdout",
     "output_type": "stream",
     "text": [
      "CPU times: user 160 ms, sys: 42.9 ms, total: 203 ms\n",
      "Wall time: 202 ms\n"
     ]
    }
   ],
   "source": [
    "%%time\n",
    "\n",
    "#vocab_size for embedding\n",
    "vocab_size_embb = len(TECHF_tokenizer.word_index) + 1\n",
    "TECHF_embeddings_matrix = create_embedding_matrix(TECHF_tokenizer,\n",
    "                                              embedding_index,\n",
    "                                              vocab_size_embb,\n",
    "                                              30)"
   ]
  },
  {
   "cell_type": "markdown",
   "metadata": {},
   "source": [
    "Creating BACKGROUND embeddings Matrix"
   ]
  },
  {
   "cell_type": "code",
   "execution_count": 23,
   "metadata": {},
   "outputs": [
    {
     "name": "stdout",
     "output_type": "stream",
     "text": [
      "CPU times: user 639 ms, sys: 225 ms, total: 864 ms\n",
      "Wall time: 865 ms\n"
     ]
    }
   ],
   "source": [
    "%%time\n",
    "\n",
    "#vocab_size for embedding\n",
    "vocab_size_embb = len(BACKG_tokenizer.word_index) + 1\n",
    "BACKG_embeddings_matrix = create_embedding_matrix(BACKG_tokenizer,\n",
    "                                              embedding_index,\n",
    "                                              vocab_size_embb,\n",
    "                                              100)"
   ]
  },
  {
   "cell_type": "markdown",
   "metadata": {},
   "source": [
    "Creating SUMMARY embeddings Matrix"
   ]
  },
  {
   "cell_type": "code",
   "execution_count": 24,
   "metadata": {},
   "outputs": [
    {
     "name": "stdout",
     "output_type": "stream",
     "text": [
      "CPU times: user 586 ms, sys: 216 ms, total: 802 ms\n",
      "Wall time: 803 ms\n"
     ]
    }
   ],
   "source": [
    "%%time\n",
    "\n",
    "#vocab_size for embedding\n",
    "vocab_size_embb = len(SUMM_tokenizer.word_index) + 1\n",
    "SUMM_embeddings_matrix = create_embedding_matrix(SUMM_tokenizer,\n",
    "                                              embedding_index,\n",
    "                                              vocab_size_embb,\n",
    "                                              100)"
   ]
  },
  {
   "cell_type": "markdown",
   "metadata": {},
   "source": [
    "Creating INDEPENDENT CLAIMS embeddings Matrix"
   ]
  },
  {
   "cell_type": "code",
   "execution_count": 25,
   "metadata": {},
   "outputs": [
    {
     "name": "stdout",
     "output_type": "stream",
     "text": [
      "CPU times: user 197 ms, sys: 62.9 ms, total: 259 ms\n",
      "Wall time: 259 ms\n"
     ]
    }
   ],
   "source": [
    "%%time\n",
    "\n",
    "#vocab_size for embedding\n",
    "vocab_size_embb = len(CLMS_tokenizer.word_index) + 1\n",
    "CLMS_embeddings_matrix = create_embedding_matrix(CLMS_tokenizer,\n",
    "                                              embedding_index,\n",
    "                                              vocab_size_embb,\n",
    "                                              100)"
   ]
  },
  {
   "cell_type": "markdown",
   "metadata": {},
   "source": [
    "# Creating a Deep Layer for each Input"
   ]
  },
  {
   "cell_type": "code",
   "execution_count": 26,
   "metadata": {},
   "outputs": [],
   "source": [
    "import keras\n",
    "from keras.models import Sequential, Model\n",
    "from keras.layers import Dense, Input, Embedding, BatchNormalization, ELU, Concatenate\n",
    "from keras.layers import LSTM, Conv1D, MaxPooling1D\n",
    "from keras.layers.merge import concatenate\n",
    "from keras.layers.core import Dropout\n"
   ]
  },
  {
   "cell_type": "markdown",
   "metadata": {},
   "source": [
    "<br> Creating LSTM deep layer for Title Embeddings<br>"
   ]
  },
  {
   "cell_type": "code",
   "execution_count": 27,
   "metadata": {},
   "outputs": [
    {
     "name": "stdout",
     "output_type": "stream",
     "text": [
      "CPU times: user 4.72 s, sys: 9 s, total: 13.7 s\n",
      "Wall time: 4.59 s\n"
     ]
    }
   ],
   "source": [
    "%%time\n",
    "#TITLE \n",
    "sequence_len =20\n",
    "dropout_pct =  0.3\n",
    "\n",
    "TI_embedding_layer_input = Input(shape=(sequence_len,), name='TI_embed_input')\n",
    "TI_embedding_layer = Embedding(input_dim=len(TI_tokenizer.word_index) + 1,\n",
    "                        output_dim=20, # Dimension of the dense embedding\n",
    "                        weights=[TI_embeddings_matrix],\n",
    "                        input_length=20)(TI_embedding_layer_input)\n",
    "\n",
    "lstm_size = 64\n",
    "TI_deep = LSTM(lstm_size,\n",
    "            dropout=dropout_pct,\n",
    "            recurrent_dropout=dropout_pct,\n",
    "            return_sequences=False,\n",
    "            name='LSTM_TI')(TI_embedding_layer)\n",
    "\n",
    "TI_deep = Dense(300, activation=None)(TI_deep)\n",
    "TI_deep = Dropout(dropout_pct)(TI_deep)\n",
    "TI_deep = BatchNormalization()(TI_deep)\n",
    "TI_deep = ELU()(TI_deep)\n"
   ]
  },
  {
   "cell_type": "markdown",
   "metadata": {},
   "source": [
    "<br> Creating LSTM deep layer for Abstract Embeddings<br>\n"
   ]
  },
  {
   "cell_type": "code",
   "execution_count": 28,
   "metadata": {},
   "outputs": [
    {
     "name": "stdout",
     "output_type": "stream",
     "text": [
      "CPU times: user 3.3 s, sys: 6.57 s, total: 9.87 s\n",
      "Wall time: 827 ms\n"
     ]
    }
   ],
   "source": [
    "%%time\n",
    "#Abstract \n",
    "sequence_len =100\n",
    "dropout_pct =  0.3\n",
    "\n",
    "AB_embedding_layer_input = Input(shape=(sequence_len,), name='AB_embed_input')\n",
    "AB_embedding_layer = Embedding(input_dim=len(AB_tokenizer.word_index) + 1,\n",
    "                        output_dim=100, # Dimension of the dense embedding\n",
    "                        weights=[AB_embeddings_matrix],\n",
    "                        input_length=100)(AB_embedding_layer_input)\n",
    "\n",
    "lstm_size = 64\n",
    "AB_deep = LSTM(lstm_size,\n",
    "            dropout=dropout_pct,\n",
    "            recurrent_dropout=dropout_pct,\n",
    "            return_sequences=False,\n",
    "            name='LSTM_AB')(AB_embedding_layer)\n",
    "\n",
    "AB_deep = Dense(300, activation=None)(AB_deep)\n",
    "AB_deep = Dropout(dropout_pct)(AB_deep)\n",
    "AB_deep = BatchNormalization()(AB_deep)\n",
    "AB_deep = ELU()(AB_deep)\n"
   ]
  },
  {
   "cell_type": "markdown",
   "metadata": {},
   "source": [
    "<br> Creating LSTM deep layer for TECHNICAL-Field Embeddings<br>\n"
   ]
  },
  {
   "cell_type": "code",
   "execution_count": 29,
   "metadata": {},
   "outputs": [
    {
     "name": "stdout",
     "output_type": "stream",
     "text": [
      "CPU times: user 3.52 s, sys: 6.23 s, total: 9.75 s\n",
      "Wall time: 693 ms\n"
     ]
    }
   ],
   "source": [
    "%%time\n",
    "#TECHNICAL-Field \n",
    "sequence_len =30\n",
    "dropout_pct =  0.3\n",
    "\n",
    "TECHF_embedding_layer_input = Input(shape=(sequence_len,), name='TECHF_embed_input')\n",
    "TECHF_embedding_layer = Embedding(input_dim=len(TECHF_tokenizer.word_index) + 1,\n",
    "                        output_dim=30, # Dimension of the dense embedding\n",
    "                        weights=[TECHF_embeddings_matrix],\n",
    "                        input_length=30)(TECHF_embedding_layer_input)\n",
    "\n",
    "lstm_size = 64\n",
    "TECHF_deep = LSTM(lstm_size,\n",
    "            dropout=dropout_pct,\n",
    "            recurrent_dropout=dropout_pct,\n",
    "            return_sequences=False,\n",
    "            name='LSTM_TECHF')(TECHF_embedding_layer)\n",
    "\n",
    "TECHF_deep = Dense(300, activation=None)(TECHF_deep)\n",
    "TECHF_deep = Dropout(dropout_pct)(TECHF_deep)\n",
    "TECHF_deep = BatchNormalization()(TECHF_deep)\n",
    "TECHF_deep = ELU()(TECHF_deep)"
   ]
  },
  {
   "cell_type": "markdown",
   "metadata": {},
   "source": [
    "<br> Creating LSTM deep layer for BACKGROUND Embeddings<br>"
   ]
  },
  {
   "cell_type": "code",
   "execution_count": 30,
   "metadata": {},
   "outputs": [
    {
     "name": "stdout",
     "output_type": "stream",
     "text": [
      "CPU times: user 3.72 s, sys: 7.52 s, total: 11.2 s\n",
      "Wall time: 2.16 s\n"
     ]
    }
   ],
   "source": [
    "%%time\n",
    "#BACKGROUND \n",
    "sequence_len =100\n",
    "dropout_pct =  0.3\n",
    "\n",
    "BACKG_embedding_layer_input = Input(shape=(sequence_len,), name='BACKG_embed_input')\n",
    "BACKG_embedding_layer = Embedding(input_dim=len(BACKG_tokenizer.word_index) + 1,\n",
    "                        output_dim=100, # Dimension of the dense embedding\n",
    "                        weights=[BACKG_embeddings_matrix],\n",
    "                        input_length=100)(BACKG_embedding_layer_input)\n",
    "\n",
    "lstm_size = 64\n",
    "BACKG_deep = LSTM(lstm_size,\n",
    "            dropout=dropout_pct,\n",
    "            recurrent_dropout=dropout_pct,\n",
    "            return_sequences=False,\n",
    "            name='LSTM_BACK')(BACKG_embedding_layer)\n",
    "\n",
    "BACKG_deep = Dense(300, activation=None)(BACKG_deep)\n",
    "BACKG_deep = Dropout(dropout_pct)(BACKG_deep)\n",
    "BACKG_deep = BatchNormalization()(BACKG_deep)\n",
    "BACKG_deep = ELU()(BACKG_deep)"
   ]
  },
  {
   "cell_type": "markdown",
   "metadata": {},
   "source": [
    "<br> Creating LSTM deep layer for Summary Embeddings<br>"
   ]
  },
  {
   "cell_type": "code",
   "execution_count": 31,
   "metadata": {},
   "outputs": [
    {
     "name": "stdout",
     "output_type": "stream",
     "text": [
      "CPU times: user 3.78 s, sys: 6.7 s, total: 10.5 s\n",
      "Wall time: 1.44 s\n"
     ]
    }
   ],
   "source": [
    "%%time\n",
    "#SUMMARY\n",
    "sequence_len =100\n",
    "dropout_pct =  0.3\n",
    "\n",
    "SUMM_embedding_layer_input = Input(shape=(sequence_len,), name='SUMM_embed_input')\n",
    "SUMM_embedding_layer = Embedding(input_dim=len(SUMM_tokenizer.word_index) + 1,\n",
    "                        output_dim=100, # Dimension of the dense embedding\n",
    "                        weights=[SUMM_embeddings_matrix],\n",
    "                        input_length=100)(SUMM_embedding_layer_input)\n",
    "\n",
    "lstm_size = 64\n",
    "SUMM_deep = LSTM(lstm_size,\n",
    "            dropout=dropout_pct,\n",
    "            recurrent_dropout=dropout_pct,\n",
    "            return_sequences=False,\n",
    "            name='LSTM_SUMM')(SUMM_embedding_layer)\n",
    "\n",
    "SUMM_deep = Dense(300, activation=None)(SUMM_deep)\n",
    "SUMM_deep = Dropout(dropout_pct)(SUMM_deep)\n",
    "SUMM_deep = BatchNormalization()(SUMM_deep)\n",
    "SUMM_deep = ELU()(SUMM_deep)"
   ]
  },
  {
   "cell_type": "markdown",
   "metadata": {},
   "source": [
    "<br> Creating LSTM deep layer for Independent Claim Embeddings<br>"
   ]
  },
  {
   "cell_type": "code",
   "execution_count": 32,
   "metadata": {},
   "outputs": [
    {
     "name": "stdout",
     "output_type": "stream",
     "text": [
      "CPU times: user 3.55 s, sys: 6.46 s, total: 10 s\n",
      "Wall time: 981 ms\n"
     ]
    }
   ],
   "source": [
    "%%time\n",
    "#CLAIMS \n",
    "sequence_len =100\n",
    "dropout_pct =  0.4\n",
    "\n",
    "\n",
    "CLMS_embedding_layer_input = Input(shape=(sequence_len,), name='CLMS_embed_input')\n",
    "CLMS_embedding_layer = Embedding(input_dim=len(CLMS_tokenizer.word_index) + 1,\n",
    "                        output_dim=100, # Dimension of the dense embedding\n",
    "                        weights=[CLMS_embeddings_matrix],\n",
    "                        input_length=100)(CLMS_embedding_layer_input)\n",
    "\n",
    "lstm_size = 64\n",
    "CLMS_deep = LSTM(lstm_size,\n",
    "            dropout=dropout_pct,\n",
    "            recurrent_dropout=dropout_pct,\n",
    "            return_sequences=False,\n",
    "            name='LSTM_CLMS')(CLMS_embedding_layer)\n",
    "\n",
    "CLMS_deep = Dense(300, activation=None)(CLMS_deep)\n",
    "CLMS_deep = Dropout(dropout_pct)(CLMS_deep)\n",
    "CLMS_deep = BatchNormalization()(CLMS_deep)\n",
    "CLMS_deep = ELU()(CLMS_deep)"
   ]
  },
  {
   "cell_type": "markdown",
   "metadata": {},
   "source": [
    "<br> Creating LSTM deep layers for one-hot vectors of Inventors and Assignees<br>"
   ]
  },
  {
   "cell_type": "code",
   "execution_count": 33,
   "metadata": {},
   "outputs": [
    {
     "name": "stdout",
     "output_type": "stream",
     "text": [
      "pa_input and inv_input layers are finished\n"
     ]
    }
   ],
   "source": [
    "dropout_pct =  0.3\n",
    "pa_input = Input(shape=(train_pa_one_hot.shape[1],), name='pa_input') \n",
    "pas = Dense(32,input_dim=train_pa_one_hot.shape[1], activation=None)(pa_input) \n",
    "pas = Dropout(dropout_pct)(pas)\n",
    "pas = BatchNormalization()(pas)\n",
    "pas = ELU()(pas)\n",
    "\n",
    "#inv\n",
    "inv_input = Input(shape=(train_inv_one_hot.shape[1],), name='inv_input') \n",
    "invs = Dense(32,input_dim=train_inv_one_hot.shape[1], activation=None)(pa_input) \n",
    "invs = Dropout(dropout_pct)(invs)\n",
    "invs = BatchNormalization()(invs)\n",
    "\n",
    "print('pa_input and inv_input layers are finished')"
   ]
  },
  {
   "cell_type": "markdown",
   "metadata": {},
   "source": [
    "# Train Model\n",
    "The following cells specify the neural network architecture and hyperparameters. <br>\n",
    "\n",
    "The model is generally composed of:<br>\n",
    "\n",
    "- contacting sequential word embeddings ofpatent text segments into a fully-connected layer\n",
    "-  categorical_accuracy is used for calculatinges the mean accuracy rate across all predictions for multiclass classification problems <br>\n",
    "- Compile the  the Network. <br>\n"
   ]
  },
  {
   "cell_type": "code",
   "execution_count": 34,
   "metadata": {},
   "outputs": [
    {
     "name": "stdout",
     "output_type": "stream",
     "text": [
      "__________________________________________________________________________________________________\n",
      "Layer (type)                    Output Shape         Param #     Connected to                     \n",
      "==================================================================================================\n",
      "TI_embed_input (InputLayer)     (None, 20)           0                                            \n",
      "__________________________________________________________________________________________________\n",
      "AB_embed_input (InputLayer)     (None, 100)          0                                            \n",
      "__________________________________________________________________________________________________\n",
      "TECHF_embed_input (InputLayer)  (None, 30)           0                                            \n",
      "__________________________________________________________________________________________________\n",
      "BACKG_embed_input (InputLayer)  (None, 100)          0                                            \n",
      "__________________________________________________________________________________________________\n",
      "SUMM_embed_input (InputLayer)   (None, 100)          0                                            \n",
      "__________________________________________________________________________________________________\n",
      "CLMS_embed_input (InputLayer)   (None, 100)          0                                            \n",
      "__________________________________________________________________________________________________\n",
      "embedding_1 (Embedding)         (None, 20, 20)       860380      TI_embed_input[0][0]             \n",
      "__________________________________________________________________________________________________\n",
      "embedding_2 (Embedding)         (None, 100, 100)     14372200    AB_embed_input[0][0]             \n",
      "__________________________________________________________________________________________________\n",
      "embedding_3 (Embedding)         (None, 30, 30)       4292250     TECHF_embed_input[0][0]          \n",
      "__________________________________________________________________________________________________\n",
      "embedding_4 (Embedding)         (None, 100, 100)     71163800    BACKG_embed_input[0][0]          \n",
      "__________________________________________________________________________________________________\n",
      "embedding_5 (Embedding)         (None, 100, 100)     63000400    SUMM_embed_input[0][0]           \n",
      "__________________________________________________________________________________________________\n",
      "embedding_6 (Embedding)         (None, 100, 100)     14205800    CLMS_embed_input[0][0]           \n",
      "__________________________________________________________________________________________________\n",
      "LSTM_TI (LSTM)                  (None, 64)           21760       embedding_1[0][0]                \n",
      "__________________________________________________________________________________________________\n",
      "LSTM_AB (LSTM)                  (None, 64)           42240       embedding_2[0][0]                \n",
      "__________________________________________________________________________________________________\n",
      "LSTM_TECHF (LSTM)               (None, 64)           24320       embedding_3[0][0]                \n",
      "__________________________________________________________________________________________________\n",
      "LSTM_BACK (LSTM)                (None, 64)           42240       embedding_4[0][0]                \n",
      "__________________________________________________________________________________________________\n",
      "LSTM_SUMM (LSTM)                (None, 64)           42240       embedding_5[0][0]                \n",
      "__________________________________________________________________________________________________\n",
      "LSTM_CLMS (LSTM)                (None, 64)           42240       embedding_6[0][0]                \n",
      "__________________________________________________________________________________________________\n",
      "dense_1 (Dense)                 (None, 300)          19500       LSTM_TI[0][0]                    \n",
      "__________________________________________________________________________________________________\n",
      "dense_2 (Dense)                 (None, 300)          19500       LSTM_AB[0][0]                    \n",
      "__________________________________________________________________________________________________\n",
      "dense_3 (Dense)                 (None, 300)          19500       LSTM_TECHF[0][0]                 \n",
      "__________________________________________________________________________________________________\n",
      "dense_4 (Dense)                 (None, 300)          19500       LSTM_BACK[0][0]                  \n",
      "__________________________________________________________________________________________________\n",
      "dense_5 (Dense)                 (None, 300)          19500       LSTM_SUMM[0][0]                  \n",
      "__________________________________________________________________________________________________\n",
      "dense_6 (Dense)                 (None, 300)          19500       LSTM_CLMS[0][0]                  \n",
      "__________________________________________________________________________________________________\n",
      "dropout_1 (Dropout)             (None, 300)          0           dense_1[0][0]                    \n",
      "__________________________________________________________________________________________________\n",
      "dropout_2 (Dropout)             (None, 300)          0           dense_2[0][0]                    \n",
      "__________________________________________________________________________________________________\n",
      "dropout_3 (Dropout)             (None, 300)          0           dense_3[0][0]                    \n",
      "__________________________________________________________________________________________________\n",
      "dropout_4 (Dropout)             (None, 300)          0           dense_4[0][0]                    \n",
      "__________________________________________________________________________________________________\n",
      "dropout_5 (Dropout)             (None, 300)          0           dense_5[0][0]                    \n",
      "__________________________________________________________________________________________________\n",
      "dropout_6 (Dropout)             (None, 300)          0           dense_6[0][0]                    \n",
      "__________________________________________________________________________________________________\n",
      "batch_normalization_1 (BatchNor (None, 300)          1200        dropout_1[0][0]                  \n",
      "__________________________________________________________________________________________________\n",
      "batch_normalization_2 (BatchNor (None, 300)          1200        dropout_2[0][0]                  \n",
      "__________________________________________________________________________________________________\n",
      "batch_normalization_3 (BatchNor (None, 300)          1200        dropout_3[0][0]                  \n",
      "__________________________________________________________________________________________________\n",
      "batch_normalization_4 (BatchNor (None, 300)          1200        dropout_4[0][0]                  \n",
      "__________________________________________________________________________________________________\n",
      "batch_normalization_5 (BatchNor (None, 300)          1200        dropout_5[0][0]                  \n",
      "__________________________________________________________________________________________________\n",
      "batch_normalization_6 (BatchNor (None, 300)          1200        dropout_6[0][0]                  \n",
      "__________________________________________________________________________________________________\n",
      "elu_1 (ELU)                     (None, 300)          0           batch_normalization_1[0][0]      \n",
      "__________________________________________________________________________________________________\n",
      "elu_2 (ELU)                     (None, 300)          0           batch_normalization_2[0][0]      \n",
      "__________________________________________________________________________________________________\n",
      "elu_3 (ELU)                     (None, 300)          0           batch_normalization_3[0][0]      \n",
      "__________________________________________________________________________________________________\n",
      "elu_4 (ELU)                     (None, 300)          0           batch_normalization_4[0][0]      \n",
      "__________________________________________________________________________________________________\n",
      "elu_5 (ELU)                     (None, 300)          0           batch_normalization_5[0][0]      \n",
      "__________________________________________________________________________________________________\n",
      "elu_6 (ELU)                     (None, 300)          0           batch_normalization_6[0][0]      \n",
      "__________________________________________________________________________________________________\n",
      "concatenated_layer (Concatenate (None, 1800)         0           elu_1[0][0]                      \n",
      "                                                                 elu_2[0][0]                      \n",
      "                                                                 elu_3[0][0]                      \n",
      "                                                                 elu_4[0][0]                      \n",
      "                                                                 elu_5[0][0]                      \n",
      "                                                                 elu_6[0][0]                      \n",
      "__________________________________________________________________________________________________\n",
      "dense_9 (Dense)                 (None, 128)          230528      concatenated_layer[0][0]         \n",
      "__________________________________________________________________________________________________\n",
      "dropout_9 (Dropout)             (None, 128)          0           dense_9[0][0]                    \n",
      "__________________________________________________________________________________________________\n",
      "batch_normalization_9 (BatchNor (None, 128)          512         dropout_9[0][0]                  \n",
      "__________________________________________________________________________________________________\n",
      "elu_8 (ELU)                     (None, 128)          0           batch_normalization_9[0][0]      \n",
      "__________________________________________________________________________________________________\n",
      "dense_10 (Dense)                (None, 42)           5418        elu_8[0][0]                      \n",
      "==================================================================================================\n",
      "Total params: 168,470,528\n",
      "Trainable params: 168,466,672\n",
      "Non-trainable params: 3,856\n",
      "__________________________________________________________________________________________________\n"
     ]
    }
   ],
   "source": [
    "import keras_metrics as km\n",
    "#contacting \n",
    "model_inputs_to_concat = [TI_deep, AB_deep, TECHF_deep, BACKG_deep, SUMM_deep, CLMS_deep] \n",
    "final_layer =  Concatenate(name='concatenated_layer')(model_inputs_to_concat)\n",
    "\n",
    "output = Dense(128, activation=None)(final_layer)\n",
    "output = Dropout(dropout_pct)(output)\n",
    "output = BatchNormalization()(output)\n",
    "output = ELU()(output)\n",
    "output = Dense(num_classes, activation='softmax')(output)\n",
    "\n",
    "model = Model(inputs=[TI_embedding_layer_input,\n",
    "                      AB_embedding_layer_input,\n",
    "                      TECHF_embedding_layer_input,\n",
    "                      BACKG_embedding_layer_input,\n",
    "                     SUMM_embedding_layer_input,\n",
    "                     CLMS_embedding_layer_input,\n",
    "                     ],\n",
    "              outputs=output, name='model')\n",
    "model.compile(loss='categorical_crossentropy',\n",
    "                      optimizer='adam',\n",
    "                      metrics=['accuracy', km.categorical_precision(), km.categorical_recall()])\n",
    "model.summary()"
   ]
  },
  {
   "cell_type": "markdown",
   "metadata": {},
   "source": [
    "Train / Fit the Network"
   ]
  },
  {
   "cell_type": "code",
   "execution_count": 35,
   "metadata": {},
   "outputs": [
    {
     "name": "stdout",
     "output_type": "stream",
     "text": [
      "Train on 322980 samples, validate on 80746 samples\n",
      "Epoch 1/20\n",
      "322980/322980 [==============================] - 461s 1ms/step - loss: 1.7969 - acc: 0.5258 - precision: 0.4037 - recall: 0.0159 - val_loss: 1.4179 - val_acc: 0.5861 - val_precision: 0.4080 - val_recall: 0.2372\n",
      "Epoch 2/20\n",
      "322980/322980 [==============================] - 450s 1ms/step - loss: 1.4392 - acc: 0.5846 - precision: 0.4834 - recall: 0.0867 - val_loss: 1.3088 - val_acc: 0.6032 - val_precision: 0.4631 - val_recall: 0.3163\n",
      "Epoch 3/20\n",
      "322980/322980 [==============================] - 442s 1ms/step - loss: 1.3511 - acc: 0.6010 - precision: 0.5133 - recall: 0.1648 - val_loss: 1.2841 - val_acc: 0.6077 - val_precision: 0.4656 - val_recall: 0.4984\n",
      "Epoch 4/20\n",
      "322980/322980 [==============================] - 436s 1ms/step - loss: 1.2965 - acc: 0.6114 - precision: 0.5304 - recall: 0.1961 - val_loss: 1.2290 - val_acc: 0.6202 - val_precision: 0.4645 - val_recall: 0.5178\n",
      "Epoch 5/20\n",
      "322980/322980 [==============================] - 437s 1ms/step - loss: 1.2574 - acc: 0.6187 - precision: 0.5558 - recall: 0.2380 - val_loss: 1.2182 - val_acc: 0.6196 - val_precision: 0.4795 - val_recall: 0.5171\n",
      "Epoch 6/20\n",
      "322980/322980 [==============================] - 435s 1ms/step - loss: 1.2228 - acc: 0.6279 - precision: 0.5753 - recall: 0.2593 - val_loss: 1.1861 - val_acc: 0.6263 - val_precision: 0.4966 - val_recall: 0.5031\n",
      "Epoch 7/20\n",
      "322980/322980 [==============================] - 434s 1ms/step - loss: 1.1940 - acc: 0.6339 - precision: 0.5902 - recall: 0.2802 - val_loss: 1.1726 - val_acc: 0.6324 - val_precision: 0.5043 - val_recall: 0.5054\n",
      "Epoch 8/20\n",
      "322980/322980 [==============================] - 434s 1ms/step - loss: 1.1690 - acc: 0.6408 - precision: 0.6120 - recall: 0.3113 - val_loss: 1.1574 - val_acc: 0.6371 - val_precision: 0.4842 - val_recall: 0.5574\n",
      "Epoch 9/20\n",
      "322980/322980 [==============================] - 435s 1ms/step - loss: 1.1481 - acc: 0.6457 - precision: 0.6196 - recall: 0.3223 - val_loss: 1.1421 - val_acc: 0.6415 - val_precision: 0.4863 - val_recall: 0.5930\n",
      "Epoch 10/20\n",
      "322980/322980 [==============================] - 437s 1ms/step - loss: 1.1270 - acc: 0.6521 - precision: 0.6216 - recall: 0.3383 - val_loss: 1.1276 - val_acc: 0.6453 - val_precision: 0.5068 - val_recall: 0.5791\n",
      "Epoch 11/20\n",
      "322980/322980 [==============================] - 432s 1ms/step - loss: 1.1120 - acc: 0.6548 - precision: 0.6170 - recall: 0.3414 - val_loss: 1.1175 - val_acc: 0.6457 - val_precision: 0.4831 - val_recall: 0.6093\n",
      "Epoch 12/20\n",
      "322980/322980 [==============================] - 435s 1ms/step - loss: 1.0955 - acc: 0.6596 - precision: 0.6327 - recall: 0.3540 - val_loss: 1.1093 - val_acc: 0.6488 - val_precision: 0.5224 - val_recall: 0.5612\n",
      "Epoch 13/20\n",
      "322980/322980 [==============================] - 434s 1ms/step - loss: 1.0773 - acc: 0.6640 - precision: 0.6332 - recall: 0.3620 - val_loss: 1.1003 - val_acc: 0.6518 - val_precision: 0.5293 - val_recall: 0.5395\n",
      "Epoch 14/20\n",
      "322980/322980 [==============================] - 433s 1ms/step - loss: 1.0620 - acc: 0.6685 - precision: 0.6425 - recall: 0.3740 - val_loss: 1.0957 - val_acc: 0.6537 - val_precision: 0.5643 - val_recall: 0.5000\n",
      "Epoch 15/20\n",
      "322980/322980 [==============================] - 436s 1ms/step - loss: 1.0482 - acc: 0.6722 - precision: 0.6532 - recall: 0.3841 - val_loss: 1.1027 - val_acc: 0.6500 - val_precision: 0.5298 - val_recall: 0.5659\n",
      "Epoch 16/20\n",
      "322980/322980 [==============================] - 435s 1ms/step - loss: 1.0337 - acc: 0.6762 - precision: 0.6497 - recall: 0.3894 - val_loss: 1.1017 - val_acc: 0.6509 - val_precision: 0.5416 - val_recall: 0.5550\n",
      "Epoch 17/20\n",
      "322980/322980 [==============================] - 435s 1ms/step - loss: 1.0209 - acc: 0.6794 - precision: 0.6581 - recall: 0.4033 - val_loss: 1.0901 - val_acc: 0.6570 - val_precision: 0.5553 - val_recall: 0.5527\n",
      "Epoch 18/20\n",
      "322980/322980 [==============================] - 437s 1ms/step - loss: 1.0099 - acc: 0.6825 - precision: 0.6607 - recall: 0.4151 - val_loss: 1.0883 - val_acc: 0.6583 - val_precision: 0.5466 - val_recall: 0.5496\n",
      "Epoch 19/20\n",
      "322980/322980 [==============================] - 434s 1ms/step - loss: 0.9975 - acc: 0.6861 - precision: 0.6691 - recall: 0.4127 - val_loss: 1.0892 - val_acc: 0.6559 - val_precision: 0.5141 - val_recall: 0.6085\n",
      "Epoch 20/20\n",
      "322980/322980 [==============================] - 437s 1ms/step - loss: 0.9839 - acc: 0.6898 - precision: 0.6718 - recall: 0.4218 - val_loss: 1.0795 - val_acc: 0.6591 - val_precision: 0.5321 - val_recall: 0.5977\n",
      "CPU times: user 4h 30min 29s, sys: 41min 49s, total: 5h 12min 18s\n",
      "Wall time: 2h 26min 11s\n"
     ]
    }
   ],
   "source": [
    "%%time\n",
    "batch_size= 500 \n",
    "num_epochs = 20\n",
    "\n",
    "history = model.fit(x={'TI_embed_input': TI_train,\n",
    "                       'AB_embed_input': AB_train,\n",
    "             'TECHF_embed_input': TECHF_train,\n",
    "             'BACKG_embed_input': BACKG_train,\n",
    "             'SUMM_embed_input': SUMM_train,\n",
    "             'CLMS_embed_input': CLMS_train\n",
    "             \n",
    "            },\n",
    "          y=y_train,\n",
    "          batch_size=batch_size,\n",
    "          epochs=num_epochs,\n",
    "          validation_data=\n",
    "          ({'TI_embed_input': TI_test,\n",
    "            'AB_embed_input': AB_test,\n",
    "            'TECHF_embed_input': TECHF_test,\n",
    "             'BACKG_embed_input': BACKG_test,\n",
    "             'SUMM_embed_input': SUMM_test,\n",
    "            'CLMS_embed_input': CLMS_test\n",
    "            },\n",
    "           y_test))\n"
   ]
  },
  {
   "cell_type": "code",
   "execution_count": 36,
   "metadata": {},
   "outputs": [],
   "source": [
    "from sklearn.datasets import make_circles\n",
    "from keras.models import Sequential\n",
    "from keras.layers import Dense\n",
    "from matplotlib import pyplot"
   ]
  },
  {
   "cell_type": "markdown",
   "metadata": {},
   "source": [
    "<br>Train the neural network on  multichannel inputs namely deep layers of patent text segments \n",
    " and deep layers of patent metadata.<br>"
   ]
  },
  {
   "cell_type": "code",
   "execution_count": 37,
   "metadata": {},
   "outputs": [
    {
     "name": "stdout",
     "output_type": "stream",
     "text": [
      "__________________________________________________________________________________________________\n",
      "Layer (type)                    Output Shape         Param #     Connected to                     \n",
      "==================================================================================================\n",
      "TI_embed_input (InputLayer)     (None, 20)           0                                            \n",
      "__________________________________________________________________________________________________\n",
      "AB_embed_input (InputLayer)     (None, 100)          0                                            \n",
      "__________________________________________________________________________________________________\n",
      "TECHF_embed_input (InputLayer)  (None, 30)           0                                            \n",
      "__________________________________________________________________________________________________\n",
      "BACKG_embed_input (InputLayer)  (None, 100)          0                                            \n",
      "__________________________________________________________________________________________________\n",
      "SUMM_embed_input (InputLayer)   (None, 100)          0                                            \n",
      "__________________________________________________________________________________________________\n",
      "CLMS_embed_input (InputLayer)   (None, 100)          0                                            \n",
      "__________________________________________________________________________________________________\n",
      "embedding_1 (Embedding)         (None, 20, 20)       860380      TI_embed_input[0][0]             \n",
      "__________________________________________________________________________________________________\n",
      "embedding_2 (Embedding)         (None, 100, 100)     14372200    AB_embed_input[0][0]             \n",
      "__________________________________________________________________________________________________\n",
      "embedding_3 (Embedding)         (None, 30, 30)       4292250     TECHF_embed_input[0][0]          \n",
      "__________________________________________________________________________________________________\n",
      "embedding_4 (Embedding)         (None, 100, 100)     71163800    BACKG_embed_input[0][0]          \n",
      "__________________________________________________________________________________________________\n",
      "embedding_5 (Embedding)         (None, 100, 100)     63000400    SUMM_embed_input[0][0]           \n",
      "__________________________________________________________________________________________________\n",
      "embedding_6 (Embedding)         (None, 100, 100)     14205800    CLMS_embed_input[0][0]           \n",
      "__________________________________________________________________________________________________\n",
      "LSTM_TI (LSTM)                  (None, 64)           21760       embedding_1[0][0]                \n",
      "__________________________________________________________________________________________________\n",
      "LSTM_AB (LSTM)                  (None, 64)           42240       embedding_2[0][0]                \n",
      "__________________________________________________________________________________________________\n",
      "LSTM_TECHF (LSTM)               (None, 64)           24320       embedding_3[0][0]                \n",
      "__________________________________________________________________________________________________\n",
      "LSTM_BACK (LSTM)                (None, 64)           42240       embedding_4[0][0]                \n",
      "__________________________________________________________________________________________________\n",
      "LSTM_SUMM (LSTM)                (None, 64)           42240       embedding_5[0][0]                \n",
      "__________________________________________________________________________________________________\n",
      "LSTM_CLMS (LSTM)                (None, 64)           42240       embedding_6[0][0]                \n",
      "__________________________________________________________________________________________________\n",
      "pa_input (InputLayer)           (None, 2000)         0                                            \n",
      "__________________________________________________________________________________________________\n",
      "dense_1 (Dense)                 (None, 300)          19500       LSTM_TI[0][0]                    \n",
      "__________________________________________________________________________________________________\n",
      "dense_2 (Dense)                 (None, 300)          19500       LSTM_AB[0][0]                    \n",
      "__________________________________________________________________________________________________\n",
      "dense_3 (Dense)                 (None, 300)          19500       LSTM_TECHF[0][0]                 \n",
      "__________________________________________________________________________________________________\n",
      "dense_4 (Dense)                 (None, 300)          19500       LSTM_BACK[0][0]                  \n",
      "__________________________________________________________________________________________________\n",
      "dense_5 (Dense)                 (None, 300)          19500       LSTM_SUMM[0][0]                  \n",
      "__________________________________________________________________________________________________\n",
      "dense_6 (Dense)                 (None, 300)          19500       LSTM_CLMS[0][0]                  \n",
      "__________________________________________________________________________________________________\n",
      "dense_7 (Dense)                 (None, 32)           64032       pa_input[0][0]                   \n",
      "__________________________________________________________________________________________________\n",
      "dropout_1 (Dropout)             (None, 300)          0           dense_1[0][0]                    \n",
      "__________________________________________________________________________________________________\n",
      "dropout_2 (Dropout)             (None, 300)          0           dense_2[0][0]                    \n",
      "__________________________________________________________________________________________________\n",
      "dropout_3 (Dropout)             (None, 300)          0           dense_3[0][0]                    \n",
      "__________________________________________________________________________________________________\n",
      "dropout_4 (Dropout)             (None, 300)          0           dense_4[0][0]                    \n",
      "__________________________________________________________________________________________________\n",
      "dropout_5 (Dropout)             (None, 300)          0           dense_5[0][0]                    \n",
      "__________________________________________________________________________________________________\n",
      "dropout_6 (Dropout)             (None, 300)          0           dense_6[0][0]                    \n",
      "__________________________________________________________________________________________________\n",
      "dropout_7 (Dropout)             (None, 32)           0           dense_7[0][0]                    \n",
      "__________________________________________________________________________________________________\n",
      "dense_8 (Dense)                 (None, 32)           64032       pa_input[0][0]                   \n",
      "__________________________________________________________________________________________________\n",
      "batch_normalization_1 (BatchNor (None, 300)          1200        dropout_1[0][0]                  \n",
      "__________________________________________________________________________________________________\n",
      "batch_normalization_2 (BatchNor (None, 300)          1200        dropout_2[0][0]                  \n",
      "__________________________________________________________________________________________________\n",
      "batch_normalization_3 (BatchNor (None, 300)          1200        dropout_3[0][0]                  \n",
      "__________________________________________________________________________________________________\n",
      "batch_normalization_4 (BatchNor (None, 300)          1200        dropout_4[0][0]                  \n",
      "__________________________________________________________________________________________________\n",
      "batch_normalization_5 (BatchNor (None, 300)          1200        dropout_5[0][0]                  \n",
      "__________________________________________________________________________________________________\n",
      "batch_normalization_6 (BatchNor (None, 300)          1200        dropout_6[0][0]                  \n",
      "__________________________________________________________________________________________________\n",
      "batch_normalization_7 (BatchNor (None, 32)           128         dropout_7[0][0]                  \n",
      "__________________________________________________________________________________________________\n",
      "dropout_8 (Dropout)             (None, 32)           0           dense_8[0][0]                    \n",
      "__________________________________________________________________________________________________\n",
      "elu_1 (ELU)                     (None, 300)          0           batch_normalization_1[0][0]      \n",
      "__________________________________________________________________________________________________\n",
      "elu_2 (ELU)                     (None, 300)          0           batch_normalization_2[0][0]      \n",
      "__________________________________________________________________________________________________\n",
      "elu_3 (ELU)                     (None, 300)          0           batch_normalization_3[0][0]      \n",
      "__________________________________________________________________________________________________\n",
      "elu_4 (ELU)                     (None, 300)          0           batch_normalization_4[0][0]      \n",
      "__________________________________________________________________________________________________\n",
      "elu_5 (ELU)                     (None, 300)          0           batch_normalization_5[0][0]      \n",
      "__________________________________________________________________________________________________\n",
      "elu_6 (ELU)                     (None, 300)          0           batch_normalization_6[0][0]      \n",
      "__________________________________________________________________________________________________\n",
      "elu_7 (ELU)                     (None, 32)           0           batch_normalization_7[0][0]      \n",
      "__________________________________________________________________________________________________\n",
      "batch_normalization_8 (BatchNor (None, 32)           128         dropout_8[0][0]                  \n",
      "__________________________________________________________________________________________________\n",
      "concatenated_layer (Concatenate (None, 1864)         0           elu_1[0][0]                      \n",
      "                                                                 elu_2[0][0]                      \n",
      "                                                                 elu_3[0][0]                      \n",
      "                                                                 elu_4[0][0]                      \n",
      "                                                                 elu_5[0][0]                      \n",
      "                                                                 elu_6[0][0]                      \n",
      "                                                                 elu_7[0][0]                      \n",
      "                                                                 batch_normalization_8[0][0]      \n",
      "__________________________________________________________________________________________________\n",
      "dense_11 (Dense)                (None, 128)          238720      concatenated_layer[0][0]         \n",
      "__________________________________________________________________________________________________\n",
      "dropout_10 (Dropout)            (None, 128)          0           dense_11[0][0]                   \n",
      "__________________________________________________________________________________________________\n",
      "batch_normalization_10 (BatchNo (None, 128)          512         dropout_10[0][0]                 \n",
      "__________________________________________________________________________________________________\n",
      "elu_9 (ELU)                     (None, 128)          0           batch_normalization_10[0][0]     \n",
      "__________________________________________________________________________________________________\n",
      "dense_12 (Dense)                (None, 42)           5418        elu_9[0][0]                      \n",
      "==================================================================================================\n",
      "Total params: 168,607,040\n",
      "Trainable params: 168,603,056\n",
      "Non-trainable params: 3,984\n",
      "__________________________________________________________________________________________________\n"
     ]
    }
   ],
   "source": [
    "import keras_metrics as km\n",
    "\n",
    "#contacting two input models\n",
    "model_inputs_to_concat = [TI_deep, AB_deep, TECHF_deep, BACKG_deep, SUMM_deep, CLMS_deep, pas, invs] \n",
    "final_layer =  Concatenate(name='concatenated_layer')(model_inputs_to_concat)\n",
    "\n",
    "output = Dense(128, activation=None)(final_layer)\n",
    "output = Dropout(dropout_pct)(output)\n",
    "output = BatchNormalization()(output)\n",
    "output = ELU()(output)\n",
    "output = Dense(num_classes, activation='softmax')(output)\n",
    "\n",
    "model2 =Model(inputs=[ TI_embedding_layer_input,\n",
    "                      AB_embedding_layer_input,\n",
    "                      TECHF_embedding_layer_input,\n",
    "                      BACKG_embedding_layer_input,\n",
    "                     SUMM_embedding_layer_input,\n",
    "                     CLMS_embedding_layer_input,\n",
    "                     pa_input,\n",
    "                      inv_input],\n",
    "              outputs=output, name='model')\n",
    "model2.compile(loss='categorical_crossentropy',\n",
    "                      optimizer='adam',\n",
    "                       metrics=['accuracy', km.categorical_precision(), km.categorical_recall()])\n",
    "model2.summary()"
   ]
  },
  {
   "cell_type": "markdown",
   "metadata": {},
   "source": [
    "Fit the model/network"
   ]
  },
  {
   "cell_type": "code",
   "execution_count": 38,
   "metadata": {},
   "outputs": [
    {
     "name": "stdout",
     "output_type": "stream",
     "text": [
      "Train on 322980 samples, validate on 80746 samples\n",
      "Epoch 1/20\n",
      "322980/322980 [==============================] - 477s 1ms/step - loss: 1.1486 - acc: 0.6703 - precision: 0.6459 - recall: 0.3769 - val_loss: 1.1171 - val_acc: 0.6656 - val_precision: 0.5228 - val_recall: 0.5860\n",
      "Epoch 2/20\n",
      "322980/322980 [==============================] - 458s 1ms/step - loss: 0.9977 - acc: 0.6915 - precision: 0.6642 - recall: 0.4410 - val_loss: 1.1003 - val_acc: 0.6631 - val_precision: 0.5672 - val_recall: 0.5465\n",
      "Epoch 3/20\n",
      "322980/322980 [==============================] - 456s 1ms/step - loss: 0.9683 - acc: 0.6973 - precision: 0.6755 - recall: 0.4547 - val_loss: 1.1008 - val_acc: 0.6602 - val_precision: 0.5137 - val_recall: 0.6256\n",
      "Epoch 4/20\n",
      "322980/322980 [==============================] - 457s 1ms/step - loss: 0.9485 - acc: 0.7034 - precision: 0.6799 - recall: 0.4739 - val_loss: 1.0926 - val_acc: 0.6635 - val_precision: 0.5520 - val_recall: 0.5597\n",
      "Epoch 5/20\n",
      "322980/322980 [==============================] - 455s 1ms/step - loss: 0.9302 - acc: 0.7064 - precision: 0.6908 - recall: 0.4783 - val_loss: 1.0930 - val_acc: 0.6619 - val_precision: 0.5792 - val_recall: 0.5527\n",
      "Epoch 6/20\n",
      "322980/322980 [==============================] - 455s 1ms/step - loss: 0.9148 - acc: 0.7116 - precision: 0.6986 - recall: 0.4866 - val_loss: 1.0966 - val_acc: 0.6638 - val_precision: 0.5312 - val_recall: 0.6132\n",
      "Epoch 7/20\n",
      "322980/322980 [==============================] - 455s 1ms/step - loss: 0.9020 - acc: 0.7142 - precision: 0.7100 - recall: 0.5018 - val_loss: 1.0997 - val_acc: 0.6658 - val_precision: 0.5691 - val_recall: 0.5519\n",
      "Epoch 8/20\n",
      "322980/322980 [==============================] - 458s 1ms/step - loss: 0.8861 - acc: 0.7190 - precision: 0.7091 - recall: 0.5085 - val_loss: 1.1060 - val_acc: 0.6609 - val_precision: 0.5159 - val_recall: 0.6411\n",
      "Epoch 9/20\n",
      "322980/322980 [==============================] - 459s 1ms/step - loss: 0.8749 - acc: 0.7219 - precision: 0.7071 - recall: 0.5159 - val_loss: 1.1131 - val_acc: 0.6623 - val_precision: 0.5739 - val_recall: 0.5659\n",
      "Epoch 10/20\n",
      "322980/322980 [==============================] - 456s 1ms/step - loss: 0.8610 - acc: 0.7259 - precision: 0.7244 - recall: 0.5311 - val_loss: 1.1124 - val_acc: 0.6625 - val_precision: 0.5277 - val_recall: 0.5984\n",
      "Epoch 11/20\n",
      "322980/322980 [==============================] - 456s 1ms/step - loss: 0.8498 - acc: 0.7294 - precision: 0.7169 - recall: 0.5297 - val_loss: 1.1149 - val_acc: 0.6629 - val_precision: 0.5151 - val_recall: 0.6233\n",
      "Epoch 12/20\n",
      "322980/322980 [==============================] - 457s 1ms/step - loss: 0.8385 - acc: 0.7326 - precision: 0.7341 - recall: 0.5464 - val_loss: 1.1318 - val_acc: 0.6592 - val_precision: 0.5396 - val_recall: 0.6016\n",
      "Epoch 13/20\n",
      "322980/322980 [==============================] - 456s 1ms/step - loss: 0.8265 - acc: 0.7363 - precision: 0.7358 - recall: 0.5442 - val_loss: 1.1238 - val_acc: 0.6640 - val_precision: 0.5254 - val_recall: 0.6256\n",
      "Epoch 14/20\n",
      "322980/322980 [==============================] - 458s 1ms/step - loss: 0.8163 - acc: 0.7398 - precision: 0.7403 - recall: 0.5518 - val_loss: 1.1302 - val_acc: 0.6630 - val_precision: 0.5292 - val_recall: 0.6109\n",
      "Epoch 15/20\n",
      "322980/322980 [==============================] - 455s 1ms/step - loss: 0.8062 - acc: 0.7424 - precision: 0.7469 - recall: 0.5697 - val_loss: 1.1476 - val_acc: 0.6583 - val_precision: 0.5322 - val_recall: 0.6217\n",
      "Epoch 16/20\n",
      "322980/322980 [==============================] - 454s 1ms/step - loss: 0.7955 - acc: 0.7451 - precision: 0.7447 - recall: 0.5630 - val_loss: 1.1380 - val_acc: 0.6619 - val_precision: 0.5096 - val_recall: 0.6395\n",
      "Epoch 17/20\n",
      "322980/322980 [==============================] - 457s 1ms/step - loss: 0.7869 - acc: 0.7479 - precision: 0.7542 - recall: 0.5822 - val_loss: 1.1472 - val_acc: 0.6610 - val_precision: 0.5431 - val_recall: 0.6008\n",
      "Epoch 18/20\n",
      "322980/322980 [==============================] - 456s 1ms/step - loss: 0.7772 - acc: 0.7499 - precision: 0.7585 - recall: 0.5835 - val_loss: 1.1474 - val_acc: 0.6605 - val_precision: 0.5310 - val_recall: 0.6101\n",
      "Epoch 19/20\n",
      "322980/322980 [==============================] - 457s 1ms/step - loss: 0.7677 - acc: 0.7528 - precision: 0.7596 - recall: 0.5895 - val_loss: 1.1585 - val_acc: 0.6595 - val_precision: 0.5471 - val_recall: 0.5992\n",
      "Epoch 20/20\n",
      "322980/322980 [==============================] - 457s 1ms/step - loss: 0.7587 - acc: 0.7559 - precision: 0.7598 - recall: 0.5956 - val_loss: 1.1719 - val_acc: 0.6592 - val_precision: 0.5000 - val_recall: 0.6612\n",
      "CPU times: user 4h 18min 26s, sys: 35min 55s, total: 4h 54min 21s\n",
      "Wall time: 2h 32min 58s\n"
     ]
    }
   ],
   "source": [
    "%%time\n",
    "batch_size= 500 \n",
    "num_epochs = 20\n",
    "\n",
    "\n",
    "history2 = model2.fit(x={'TI_embed_input': TI_train,\n",
    "                         'AB_embed_input': AB_train,\n",
    "             'TECHF_embed_input': TECHF_train,\n",
    "             'BACKG_embed_input': BACKG_train,\n",
    "             'SUMM_embed_input': SUMM_train,\n",
    "             'CLMS_embed_input': CLMS_train,\n",
    "             'pa_input': train_pa_one_hot,\n",
    "             'inv_input': train_inv_one_hot\n",
    "            },\n",
    "          y=y_train,\n",
    "          batch_size=batch_size,\n",
    "          epochs=num_epochs,\n",
    "          validation_data=\n",
    "          ({'TI_embed_input': TI_test,\n",
    "            'AB_embed_input': AB_test,\n",
    "            'TECHF_embed_input': TECHF_test,\n",
    "             'BACKG_embed_input': BACKG_test,\n",
    "             'SUMM_embed_input': SUMM_test,\n",
    "            'CLMS_embed_input': CLMS_test,\n",
    "            'pa_input': test_pa_one_hot,\n",
    "            'inv_input': test_inv_one_hot\n",
    "            },\n",
    "           y_test))"
   ]
  },
  {
   "cell_type": "markdown",
   "metadata": {},
   "source": [
    "<br>Train the neural network on  multichannel inputs namely deep layers of Title and Technical Field.<br>"
   ]
  },
  {
   "cell_type": "code",
   "execution_count": 39,
   "metadata": {},
   "outputs": [
    {
     "name": "stdout",
     "output_type": "stream",
     "text": [
      "__________________________________________________________________________________________________\n",
      "Layer (type)                    Output Shape         Param #     Connected to                     \n",
      "==================================================================================================\n",
      "TI_embed_input (InputLayer)     (None, 20)           0                                            \n",
      "__________________________________________________________________________________________________\n",
      "TECHF_embed_input (InputLayer)  (None, 30)           0                                            \n",
      "__________________________________________________________________________________________________\n",
      "embedding_1 (Embedding)         (None, 20, 20)       860380      TI_embed_input[0][0]             \n",
      "__________________________________________________________________________________________________\n",
      "embedding_3 (Embedding)         (None, 30, 30)       4292250     TECHF_embed_input[0][0]          \n",
      "__________________________________________________________________________________________________\n",
      "LSTM_TI (LSTM)                  (None, 64)           21760       embedding_1[0][0]                \n",
      "__________________________________________________________________________________________________\n",
      "LSTM_TECHF (LSTM)               (None, 64)           24320       embedding_3[0][0]                \n",
      "__________________________________________________________________________________________________\n",
      "dense_1 (Dense)                 (None, 300)          19500       LSTM_TI[0][0]                    \n",
      "__________________________________________________________________________________________________\n",
      "dense_3 (Dense)                 (None, 300)          19500       LSTM_TECHF[0][0]                 \n",
      "__________________________________________________________________________________________________\n",
      "dropout_1 (Dropout)             (None, 300)          0           dense_1[0][0]                    \n",
      "__________________________________________________________________________________________________\n",
      "dropout_3 (Dropout)             (None, 300)          0           dense_3[0][0]                    \n",
      "__________________________________________________________________________________________________\n",
      "batch_normalization_1 (BatchNor (None, 300)          1200        dropout_1[0][0]                  \n",
      "__________________________________________________________________________________________________\n",
      "batch_normalization_3 (BatchNor (None, 300)          1200        dropout_3[0][0]                  \n",
      "__________________________________________________________________________________________________\n",
      "elu_1 (ELU)                     (None, 300)          0           batch_normalization_1[0][0]      \n",
      "__________________________________________________________________________________________________\n",
      "elu_3 (ELU)                     (None, 300)          0           batch_normalization_3[0][0]      \n",
      "__________________________________________________________________________________________________\n",
      "concatenated_layer (Concatenate (None, 600)          0           elu_1[0][0]                      \n",
      "                                                                 elu_3[0][0]                      \n",
      "__________________________________________________________________________________________________\n",
      "dense_13 (Dense)                (None, 64)           38464       concatenated_layer[0][0]         \n",
      "__________________________________________________________________________________________________\n",
      "dropout_11 (Dropout)            (None, 64)           0           dense_13[0][0]                   \n",
      "__________________________________________________________________________________________________\n",
      "batch_normalization_11 (BatchNo (None, 64)           256         dropout_11[0][0]                 \n",
      "__________________________________________________________________________________________________\n",
      "elu_10 (ELU)                    (None, 64)           0           batch_normalization_11[0][0]     \n",
      "__________________________________________________________________________________________________\n",
      "dense_14 (Dense)                (None, 42)           2730        elu_10[0][0]                     \n",
      "==================================================================================================\n",
      "Total params: 5,281,560\n",
      "Trainable params: 5,280,232\n",
      "Non-trainable params: 1,328\n",
      "__________________________________________________________________________________________________\n"
     ]
    }
   ],
   "source": [
    "\n",
    "\n",
    "#contacting two input models\n",
    "model_inputs_to_concat = [TI_deep,  TECHF_deep] #invs , pas, invs\n",
    "final_layer =  Concatenate(name='concatenated_layer')(model_inputs_to_concat)\n",
    "\n",
    "output = Dense(64, activation=None)(final_layer)\n",
    "output = Dropout(dropout_pct)(output)\n",
    "output = BatchNormalization()(output)\n",
    "output = ELU()(output)\n",
    "output = Dense(num_classes, activation='softmax')(output)\n",
    "\n",
    "model3 =Model(inputs=[ TI_embedding_layer_input,\n",
    "                      TECHF_embedding_layer_input\n",
    "                      ],\n",
    "              outputs=output, name='model')\n",
    "model3.compile(loss='categorical_crossentropy',\n",
    "                      optimizer='adam',\n",
    "                       metrics=['accuracy', km.categorical_precision(), km.categorical_recall()])\n",
    "model3.summary()"
   ]
  },
  {
   "cell_type": "markdown",
   "metadata": {},
   "source": [
    "<br> Fit the model <br>"
   ]
  },
  {
   "cell_type": "code",
   "execution_count": 40,
   "metadata": {},
   "outputs": [
    {
     "name": "stdout",
     "output_type": "stream",
     "text": [
      "Train on 322980 samples, validate on 80746 samples\n",
      "Epoch 1/20\n",
      "322980/322980 [==============================] - 55s 169us/step - loss: 1.6390 - acc: 0.5718 - precision: 0.5691 - recall: 0.1416 - val_loss: 1.4379 - val_acc: 0.5923 - val_precision: 0.4446 - val_recall: 0.3953\n",
      "Epoch 2/20\n",
      "322980/322980 [==============================] - 48s 148us/step - loss: 1.4377 - acc: 0.5924 - precision: 0.5717 - recall: 0.1956 - val_loss: 1.4040 - val_acc: 0.5979 - val_precision: 0.4448 - val_recall: 0.3907\n",
      "Epoch 3/20\n",
      "322980/322980 [==============================] - 49s 151us/step - loss: 1.4060 - acc: 0.5983 - precision: 0.5748 - recall: 0.2081 - val_loss: 1.3956 - val_acc: 0.5963 - val_precision: 0.4803 - val_recall: 0.3690\n",
      "Epoch 4/20\n",
      "322980/322980 [==============================] - 50s 154us/step - loss: 1.3865 - acc: 0.6016 - precision: 0.5945 - recall: 0.2233 - val_loss: 1.3819 - val_acc: 0.6000 - val_precision: 0.4606 - val_recall: 0.3946\n",
      "Epoch 5/20\n",
      "322980/322980 [==============================] - 50s 154us/step - loss: 1.3730 - acc: 0.6040 - precision: 0.6068 - recall: 0.2356 - val_loss: 1.3735 - val_acc: 0.5998 - val_precision: 0.4962 - val_recall: 0.3566\n",
      "Epoch 6/20\n",
      "322980/322980 [==============================] - 49s 153us/step - loss: 1.3603 - acc: 0.6065 - precision: 0.5837 - recall: 0.2305 - val_loss: 1.3637 - val_acc: 0.6011 - val_precision: 0.4698 - val_recall: 0.4047\n",
      "Epoch 7/20\n",
      "322980/322980 [==============================] - 49s 153us/step - loss: 1.3499 - acc: 0.6073 - precision: 0.5961 - recall: 0.2405 - val_loss: 1.3650 - val_acc: 0.6002 - val_precision: 0.4836 - val_recall: 0.3992\n",
      "Epoch 8/20\n",
      "322980/322980 [==============================] - 49s 151us/step - loss: 1.3402 - acc: 0.6093 - precision: 0.6108 - recall: 0.2466 - val_loss: 1.3604 - val_acc: 0.6014 - val_precision: 0.4942 - val_recall: 0.3969\n",
      "Epoch 9/20\n",
      "322980/322980 [==============================] - 50s 153us/step - loss: 1.3316 - acc: 0.6114 - precision: 0.5910 - recall: 0.2463 - val_loss: 1.3503 - val_acc: 0.6038 - val_precision: 0.4753 - val_recall: 0.4101\n",
      "Epoch 10/20\n",
      "322980/322980 [==============================] - 50s 154us/step - loss: 1.3236 - acc: 0.6129 - precision: 0.6087 - recall: 0.2479 - val_loss: 1.3531 - val_acc: 0.6031 - val_precision: 0.4776 - val_recall: 0.4124\n",
      "Epoch 11/20\n",
      "322980/322980 [==============================] - 49s 153us/step - loss: 1.3166 - acc: 0.6142 - precision: 0.6174 - recall: 0.2534 - val_loss: 1.3507 - val_acc: 0.6020 - val_precision: 0.4833 - val_recall: 0.4271\n",
      "Epoch 12/20\n",
      "322980/322980 [==============================] - 49s 152us/step - loss: 1.3109 - acc: 0.6155 - precision: 0.6112 - recall: 0.2573 - val_loss: 1.3436 - val_acc: 0.6034 - val_precision: 0.4709 - val_recall: 0.4333\n",
      "Epoch 13/20\n",
      "322980/322980 [==============================] - 49s 152us/step - loss: 1.3074 - acc: 0.6161 - precision: 0.6021 - recall: 0.2628 - val_loss: 1.3403 - val_acc: 0.6028 - val_precision: 0.4965 - val_recall: 0.3868\n",
      "Epoch 14/20\n",
      "322980/322980 [==============================] - 50s 154us/step - loss: 1.2992 - acc: 0.6174 - precision: 0.6207 - recall: 0.2649 - val_loss: 1.3351 - val_acc: 0.6016 - val_precision: 0.4840 - val_recall: 0.4109\n",
      "Epoch 15/20\n",
      "322980/322980 [==============================] - 50s 154us/step - loss: 1.2940 - acc: 0.6190 - precision: 0.6332 - recall: 0.2733 - val_loss: 1.3331 - val_acc: 0.6066 - val_precision: 0.4887 - val_recall: 0.4178\n",
      "Epoch 16/20\n",
      "322980/322980 [==============================] - 50s 154us/step - loss: 1.2878 - acc: 0.6203 - precision: 0.6106 - recall: 0.2745 - val_loss: 1.3304 - val_acc: 0.6046 - val_precision: 0.4750 - val_recall: 0.4558\n",
      "Epoch 17/20\n",
      "322980/322980 [==============================] - 50s 154us/step - loss: 1.2837 - acc: 0.6217 - precision: 0.6437 - recall: 0.2908 - val_loss: 1.3326 - val_acc: 0.6035 - val_precision: 0.4982 - val_recall: 0.4302\n",
      "Epoch 18/20\n",
      "322980/322980 [==============================] - 50s 154us/step - loss: 1.2779 - acc: 0.6220 - precision: 0.6195 - recall: 0.2807 - val_loss: 1.3252 - val_acc: 0.6066 - val_precision: 0.4739 - val_recall: 0.4574\n",
      "Epoch 19/20\n",
      "322980/322980 [==============================] - 50s 153us/step - loss: 1.2743 - acc: 0.6231 - precision: 0.6211 - recall: 0.2885 - val_loss: 1.3255 - val_acc: 0.6066 - val_precision: 0.4754 - val_recall: 0.4574\n",
      "Epoch 20/20\n",
      "322980/322980 [==============================] - 50s 154us/step - loss: 1.2684 - acc: 0.6242 - precision: 0.6299 - recall: 0.2955 - val_loss: 1.3252 - val_acc: 0.6068 - val_precision: 0.4866 - val_recall: 0.4225\n",
      "CPU times: user 31min 30s, sys: 4min 9s, total: 35min 40s\n",
      "Wall time: 16min 47s\n"
     ]
    }
   ],
   "source": [
    "%%time\n",
    "batch_size= 500 \n",
    "num_epochs = 20\n",
    "\n",
    "\n",
    "history3 = model3.fit(x={'TI_embed_input': TI_train,\n",
    "             'TECHF_embed_input': TECHF_train\n",
    "            },\n",
    "          y=y_train,\n",
    "          batch_size=batch_size,\n",
    "          epochs=num_epochs,\n",
    "          validation_data=\n",
    "          ({'TI_embed_input': TI_test,\n",
    "            'TECHF_embed_input': TECHF_test\n",
    "            },\n",
    "           y_test))"
   ]
  },
  {
   "cell_type": "markdown",
   "metadata": {},
   "source": [
    "<br>Train the neural network on  multichannel inputs namely deep layers of Title, abstrcat and Technical Field.<br>"
   ]
  },
  {
   "cell_type": "code",
   "execution_count": 41,
   "metadata": {},
   "outputs": [
    {
     "name": "stdout",
     "output_type": "stream",
     "text": [
      "__________________________________________________________________________________________________\n",
      "Layer (type)                    Output Shape         Param #     Connected to                     \n",
      "==================================================================================================\n",
      "TI_embed_input (InputLayer)     (None, 20)           0                                            \n",
      "__________________________________________________________________________________________________\n",
      "AB_embed_input (InputLayer)     (None, 100)          0                                            \n",
      "__________________________________________________________________________________________________\n",
      "TECHF_embed_input (InputLayer)  (None, 30)           0                                            \n",
      "__________________________________________________________________________________________________\n",
      "embedding_1 (Embedding)         (None, 20, 20)       860380      TI_embed_input[0][0]             \n",
      "__________________________________________________________________________________________________\n",
      "embedding_2 (Embedding)         (None, 100, 100)     14372200    AB_embed_input[0][0]             \n",
      "__________________________________________________________________________________________________\n",
      "embedding_3 (Embedding)         (None, 30, 30)       4292250     TECHF_embed_input[0][0]          \n",
      "__________________________________________________________________________________________________\n",
      "LSTM_TI (LSTM)                  (None, 64)           21760       embedding_1[0][0]                \n",
      "__________________________________________________________________________________________________\n",
      "LSTM_AB (LSTM)                  (None, 64)           42240       embedding_2[0][0]                \n",
      "__________________________________________________________________________________________________\n",
      "LSTM_TECHF (LSTM)               (None, 64)           24320       embedding_3[0][0]                \n",
      "__________________________________________________________________________________________________\n",
      "dense_1 (Dense)                 (None, 300)          19500       LSTM_TI[0][0]                    \n",
      "__________________________________________________________________________________________________\n",
      "dense_2 (Dense)                 (None, 300)          19500       LSTM_AB[0][0]                    \n",
      "__________________________________________________________________________________________________\n",
      "dense_3 (Dense)                 (None, 300)          19500       LSTM_TECHF[0][0]                 \n",
      "__________________________________________________________________________________________________\n",
      "dropout_1 (Dropout)             (None, 300)          0           dense_1[0][0]                    \n",
      "__________________________________________________________________________________________________\n",
      "dropout_2 (Dropout)             (None, 300)          0           dense_2[0][0]                    \n",
      "__________________________________________________________________________________________________\n",
      "dropout_3 (Dropout)             (None, 300)          0           dense_3[0][0]                    \n",
      "__________________________________________________________________________________________________\n",
      "batch_normalization_1 (BatchNor (None, 300)          1200        dropout_1[0][0]                  \n",
      "__________________________________________________________________________________________________\n",
      "batch_normalization_2 (BatchNor (None, 300)          1200        dropout_2[0][0]                  \n",
      "__________________________________________________________________________________________________\n",
      "batch_normalization_3 (BatchNor (None, 300)          1200        dropout_3[0][0]                  \n",
      "__________________________________________________________________________________________________\n",
      "elu_1 (ELU)                     (None, 300)          0           batch_normalization_1[0][0]      \n",
      "__________________________________________________________________________________________________\n",
      "elu_2 (ELU)                     (None, 300)          0           batch_normalization_2[0][0]      \n",
      "__________________________________________________________________________________________________\n",
      "elu_3 (ELU)                     (None, 300)          0           batch_normalization_3[0][0]      \n",
      "__________________________________________________________________________________________________\n",
      "concatenated_layer (Concatenate (None, 900)          0           elu_1[0][0]                      \n",
      "                                                                 elu_2[0][0]                      \n",
      "                                                                 elu_3[0][0]                      \n",
      "__________________________________________________________________________________________________\n",
      "dense_15 (Dense)                (None, 128)          115328      concatenated_layer[0][0]         \n",
      "__________________________________________________________________________________________________\n",
      "dropout_12 (Dropout)            (None, 128)          0           dense_15[0][0]                   \n",
      "__________________________________________________________________________________________________\n",
      "batch_normalization_12 (BatchNo (None, 128)          512         dropout_12[0][0]                 \n",
      "__________________________________________________________________________________________________\n",
      "elu_11 (ELU)                    (None, 128)          0           batch_normalization_12[0][0]     \n",
      "__________________________________________________________________________________________________\n",
      "dense_16 (Dense)                (None, 42)           5418        elu_11[0][0]                     \n",
      "==================================================================================================\n",
      "Total params: 19,796,508\n",
      "Trainable params: 19,794,452\n",
      "Non-trainable params: 2,056\n",
      "__________________________________________________________________________________________________\n"
     ]
    }
   ],
   "source": [
    "import keras_metrics as km\n",
    "#contacting two input models\n",
    "model_inputs_to_concat = [TI_deep, AB_deep, TECHF_deep] #invs , pas, invs\n",
    "final_layer =  Concatenate(name='concatenated_layer')(model_inputs_to_concat)\n",
    "\n",
    "output = Dense(128, activation=None)(final_layer)\n",
    "output = Dropout(dropout_pct)(output)\n",
    "output = BatchNormalization()(output)\n",
    "output = ELU()(output)\n",
    "output = Dense(num_classes, activation='softmax')(output)\n",
    "\n",
    "model4 = Model(inputs=[TI_embedding_layer_input,\n",
    "                      AB_embedding_layer_input,\n",
    "                      TECHF_embedding_layer_input\n",
    "                     ],\n",
    "              outputs=output, name='model')\n",
    "model4.compile(loss='categorical_crossentropy',\n",
    "                      optimizer='adam',\n",
    "                       metrics=['accuracy', km.categorical_precision(), km.categorical_recall()])\n",
    "model4.summary()"
   ]
  },
  {
   "cell_type": "markdown",
   "metadata": {},
   "source": [
    "<br>Fit the model <br>"
   ]
  },
  {
   "cell_type": "code",
   "execution_count": 42,
   "metadata": {},
   "outputs": [
    {
     "name": "stdout",
     "output_type": "stream",
     "text": [
      "Train on 322980 samples, validate on 80746 samples\n",
      "Epoch 1/20\n",
      "322980/322980 [==============================] - 154s 476us/step - loss: 1.2702 - acc: 0.6409 - precision: 0.6272 - recall: 0.2992 - val_loss: 1.2700 - val_acc: 0.6334 - val_precision: 0.4969 - val_recall: 0.4310\n",
      "Epoch 2/20\n",
      "322980/322980 [==============================] - 144s 444us/step - loss: 1.1308 - acc: 0.6586 - precision: 0.6388 - recall: 0.3405 - val_loss: 1.2481 - val_acc: 0.6326 - val_precision: 0.4970 - val_recall: 0.4550\n",
      "Epoch 3/20\n",
      "322980/322980 [==============================] - 144s 446us/step - loss: 1.1071 - acc: 0.6636 - precision: 0.6475 - recall: 0.3466 - val_loss: 1.2487 - val_acc: 0.6304 - val_precision: 0.4724 - val_recall: 0.4783\n",
      "Epoch 4/20\n",
      "322980/322980 [==============================] - 144s 445us/step - loss: 1.0942 - acc: 0.6660 - precision: 0.6503 - recall: 0.3613 - val_loss: 1.2582 - val_acc: 0.6254 - val_precision: 0.5224 - val_recall: 0.4240\n",
      "Epoch 5/20\n",
      "322980/322980 [==============================] - 143s 442us/step - loss: 1.0822 - acc: 0.6679 - precision: 0.6558 - recall: 0.3578 - val_loss: 1.2403 - val_acc: 0.6320 - val_precision: 0.4879 - val_recall: 0.4845\n",
      "Epoch 6/20\n",
      "322980/322980 [==============================] - 142s 440us/step - loss: 1.0718 - acc: 0.6711 - precision: 0.6543 - recall: 0.3568 - val_loss: 1.2360 - val_acc: 0.6327 - val_precision: 0.5181 - val_recall: 0.4333\n",
      "Epoch 7/20\n",
      "322980/322980 [==============================] - 142s 440us/step - loss: 1.0597 - acc: 0.6740 - precision: 0.6602 - recall: 0.3698 - val_loss: 1.2417 - val_acc: 0.6318 - val_precision: 0.5057 - val_recall: 0.4488\n",
      "Epoch 8/20\n",
      "322980/322980 [==============================] - 142s 440us/step - loss: 1.0484 - acc: 0.6758 - precision: 0.6675 - recall: 0.3770 - val_loss: 1.2222 - val_acc: 0.6323 - val_precision: 0.4901 - val_recall: 0.4783\n",
      "Epoch 9/20\n",
      "322980/322980 [==============================] - 141s 437us/step - loss: 1.0384 - acc: 0.6791 - precision: 0.6712 - recall: 0.3859 - val_loss: 1.2195 - val_acc: 0.6329 - val_precision: 0.5317 - val_recall: 0.4225\n",
      "Epoch 10/20\n",
      "322980/322980 [==============================] - 142s 439us/step - loss: 1.0297 - acc: 0.6809 - precision: 0.6706 - recall: 0.3848 - val_loss: 1.2314 - val_acc: 0.6285 - val_precision: 0.5012 - val_recall: 0.4752\n",
      "Epoch 11/20\n",
      "322980/322980 [==============================] - 142s 438us/step - loss: 1.0216 - acc: 0.6835 - precision: 0.6728 - recall: 0.3973 - val_loss: 1.2032 - val_acc: 0.6378 - val_precision: 0.5172 - val_recall: 0.4791\n",
      "Epoch 12/20\n",
      "322980/322980 [==============================] - 142s 440us/step - loss: 1.0145 - acc: 0.6857 - precision: 0.6747 - recall: 0.3933 - val_loss: 1.2031 - val_acc: 0.6360 - val_precision: 0.5252 - val_recall: 0.4605\n",
      "Epoch 13/20\n",
      "322980/322980 [==============================] - 143s 442us/step - loss: 1.0079 - acc: 0.6867 - precision: 0.6760 - recall: 0.3926 - val_loss: 1.2067 - val_acc: 0.6378 - val_precision: 0.4909 - val_recall: 0.5000\n",
      "Epoch 14/20\n",
      "322980/322980 [==============================] - 143s 442us/step - loss: 1.0010 - acc: 0.6886 - precision: 0.6860 - recall: 0.4064 - val_loss: 1.2042 - val_acc: 0.6367 - val_precision: 0.4984 - val_recall: 0.4899\n",
      "Epoch 15/20\n",
      "322980/322980 [==============================] - 142s 440us/step - loss: 0.9927 - acc: 0.6908 - precision: 0.6840 - recall: 0.4049 - val_loss: 1.2199 - val_acc: 0.6332 - val_precision: 0.5073 - val_recall: 0.4860\n",
      "Epoch 16/20\n",
      "322980/322980 [==============================] - 143s 441us/step - loss: 0.9882 - acc: 0.6927 - precision: 0.6885 - recall: 0.4118 - val_loss: 1.2210 - val_acc: 0.6338 - val_precision: 0.4786 - val_recall: 0.5295\n",
      "Epoch 17/20\n",
      "322980/322980 [==============================] - 143s 444us/step - loss: 0.9817 - acc: 0.6935 - precision: 0.6852 - recall: 0.4162 - val_loss: 1.2064 - val_acc: 0.6358 - val_precision: 0.4996 - val_recall: 0.5008\n",
      "Epoch 18/20\n",
      "322980/322980 [==============================] - 144s 446us/step - loss: 0.9744 - acc: 0.6948 - precision: 0.6907 - recall: 0.4174 - val_loss: 1.2164 - val_acc: 0.6370 - val_precision: 0.5190 - val_recall: 0.4651\n",
      "Epoch 19/20\n",
      "322980/322980 [==============================] - 144s 445us/step - loss: 0.9711 - acc: 0.6964 - precision: 0.6815 - recall: 0.4162 - val_loss: 1.2233 - val_acc: 0.6333 - val_precision: 0.5044 - val_recall: 0.4837\n",
      "Epoch 20/20\n",
      "322980/322980 [==============================] - 143s 444us/step - loss: 0.9646 - acc: 0.6986 - precision: 0.7014 - recall: 0.4276 - val_loss: 1.2057 - val_acc: 0.6394 - val_precision: 0.5194 - val_recall: 0.4767\n",
      "CPU times: user 1h 25min 44s, sys: 10min 32s, total: 1h 36min 16s\n",
      "Wall time: 48min 7s\n"
     ]
    }
   ],
   "source": [
    "%%time\n",
    "batch_size= 500 \n",
    "num_epochs = 20\n",
    "\n",
    "\n",
    "history4 = model4.fit(x={'TI_embed_input': TI_train,\n",
    "                         'AB_embed_input': AB_train,\n",
    "             'TECHF_embed_input': TECHF_train\n",
    "            },\n",
    "          y=y_train,\n",
    "          batch_size=batch_size,\n",
    "          epochs=num_epochs,\n",
    "          validation_data=\n",
    "          ({'TI_embed_input': TI_test,\n",
    "            'AB_embed_input': AB_test,\n",
    "            'TECHF_embed_input': TECHF_test\n",
    "            },\n",
    "           y_test))"
   ]
  },
  {
   "cell_type": "markdown",
   "metadata": {},
   "source": [
    "<br>Train the neural network on  multichannel inputs namely deep layers of Title, Technical Field, Inventors, and Assignees.<br>"
   ]
  },
  {
   "cell_type": "code",
   "execution_count": 43,
   "metadata": {},
   "outputs": [
    {
     "name": "stdout",
     "output_type": "stream",
     "text": [
      "__________________________________________________________________________________________________\n",
      "Layer (type)                    Output Shape         Param #     Connected to                     \n",
      "==================================================================================================\n",
      "TI_embed_input (InputLayer)     (None, 20)           0                                            \n",
      "__________________________________________________________________________________________________\n",
      "TECHF_embed_input (InputLayer)  (None, 30)           0                                            \n",
      "__________________________________________________________________________________________________\n",
      "embedding_1 (Embedding)         (None, 20, 20)       860380      TI_embed_input[0][0]             \n",
      "__________________________________________________________________________________________________\n",
      "embedding_3 (Embedding)         (None, 30, 30)       4292250     TECHF_embed_input[0][0]          \n",
      "__________________________________________________________________________________________________\n",
      "LSTM_TI (LSTM)                  (None, 64)           21760       embedding_1[0][0]                \n",
      "__________________________________________________________________________________________________\n",
      "LSTM_TECHF (LSTM)               (None, 64)           24320       embedding_3[0][0]                \n",
      "__________________________________________________________________________________________________\n",
      "pa_input (InputLayer)           (None, 2000)         0                                            \n",
      "__________________________________________________________________________________________________\n",
      "dense_1 (Dense)                 (None, 300)          19500       LSTM_TI[0][0]                    \n",
      "__________________________________________________________________________________________________\n",
      "dense_3 (Dense)                 (None, 300)          19500       LSTM_TECHF[0][0]                 \n",
      "__________________________________________________________________________________________________\n",
      "dense_7 (Dense)                 (None, 32)           64032       pa_input[0][0]                   \n",
      "__________________________________________________________________________________________________\n",
      "dropout_1 (Dropout)             (None, 300)          0           dense_1[0][0]                    \n",
      "__________________________________________________________________________________________________\n",
      "dropout_3 (Dropout)             (None, 300)          0           dense_3[0][0]                    \n",
      "__________________________________________________________________________________________________\n",
      "dropout_7 (Dropout)             (None, 32)           0           dense_7[0][0]                    \n",
      "__________________________________________________________________________________________________\n",
      "dense_8 (Dense)                 (None, 32)           64032       pa_input[0][0]                   \n",
      "__________________________________________________________________________________________________\n",
      "batch_normalization_1 (BatchNor (None, 300)          1200        dropout_1[0][0]                  \n",
      "__________________________________________________________________________________________________\n",
      "batch_normalization_3 (BatchNor (None, 300)          1200        dropout_3[0][0]                  \n",
      "__________________________________________________________________________________________________\n",
      "batch_normalization_7 (BatchNor (None, 32)           128         dropout_7[0][0]                  \n",
      "__________________________________________________________________________________________________\n",
      "dropout_8 (Dropout)             (None, 32)           0           dense_8[0][0]                    \n",
      "__________________________________________________________________________________________________\n",
      "elu_1 (ELU)                     (None, 300)          0           batch_normalization_1[0][0]      \n",
      "__________________________________________________________________________________________________\n",
      "elu_3 (ELU)                     (None, 300)          0           batch_normalization_3[0][0]      \n",
      "__________________________________________________________________________________________________\n",
      "elu_7 (ELU)                     (None, 32)           0           batch_normalization_7[0][0]      \n",
      "__________________________________________________________________________________________________\n",
      "batch_normalization_8 (BatchNor (None, 32)           128         dropout_8[0][0]                  \n",
      "__________________________________________________________________________________________________\n",
      "concatenated_layer (Concatenate (None, 664)          0           elu_1[0][0]                      \n",
      "                                                                 elu_3[0][0]                      \n",
      "                                                                 elu_7[0][0]                      \n",
      "                                                                 batch_normalization_8[0][0]      \n",
      "__________________________________________________________________________________________________\n",
      "dense_17 (Dense)                (None, 128)          85120       concatenated_layer[0][0]         \n",
      "__________________________________________________________________________________________________\n",
      "dropout_13 (Dropout)            (None, 128)          0           dense_17[0][0]                   \n",
      "__________________________________________________________________________________________________\n",
      "batch_normalization_13 (BatchNo (None, 128)          512         dropout_13[0][0]                 \n",
      "__________________________________________________________________________________________________\n",
      "elu_12 (ELU)                    (None, 128)          0           batch_normalization_13[0][0]     \n",
      "__________________________________________________________________________________________________\n",
      "dense_18 (Dense)                (None, 42)           5418        elu_12[0][0]                     \n",
      "==================================================================================================\n",
      "Total params: 5,459,480\n",
      "Trainable params: 5,457,896\n",
      "Non-trainable params: 1,584\n",
      "__________________________________________________________________________________________________\n"
     ]
    }
   ],
   "source": [
    "\n",
    "#contacting two input models\n",
    "model_inputs_to_concat = [TI_deep, TECHF_deep,  pas, invs] #invs , pas, invs\n",
    "final_layer =  Concatenate(name='concatenated_layer')(model_inputs_to_concat)\n",
    "\n",
    "output = Dense(128, activation=None)(final_layer)\n",
    "output = Dropout(dropout_pct)(output)\n",
    "output = BatchNormalization()(output)\n",
    "output = ELU()(output)\n",
    "output = Dense(num_classes, activation='softmax')(output)\n",
    "\n",
    "model5 =Model(inputs=[ TI_embedding_layer_input,\n",
    "                      TECHF_embedding_layer_input,\n",
    "                     pa_input,\n",
    "                      inv_input],\n",
    "              outputs=output, name='model')\n",
    "model5.compile(loss='categorical_crossentropy',\n",
    "                      optimizer='adam',\n",
    "                       metrics=['accuracy', km.categorical_precision(), km.categorical_recall()])\n",
    "model5.summary()"
   ]
  },
  {
   "cell_type": "markdown",
   "metadata": {},
   "source": [
    "<br> Fit the mode. <br>"
   ]
  },
  {
   "cell_type": "code",
   "execution_count": 44,
   "metadata": {},
   "outputs": [
    {
     "name": "stdout",
     "output_type": "stream",
     "text": [
      "Train on 322980 samples, validate on 80746 samples\n",
      "Epoch 1/20\n",
      "322980/322980 [==============================] - 64s 199us/step - loss: 1.3491 - acc: 0.6212 - precision: 0.6471 - recall: 0.3138 - val_loss: 1.3344 - val_acc: 0.6147 - val_precision: 0.5265 - val_recall: 0.4163\n",
      "Epoch 2/20\n",
      "322980/322980 [==============================] - 57s 175us/step - loss: 1.1993 - acc: 0.6403 - precision: 0.6491 - recall: 0.3595 - val_loss: 1.3275 - val_acc: 0.6149 - val_precision: 0.4900 - val_recall: 0.4760\n",
      "Epoch 3/20\n",
      "322980/322980 [==============================] - 57s 176us/step - loss: 1.1797 - acc: 0.6449 - precision: 0.6636 - recall: 0.3673 - val_loss: 1.3184 - val_acc: 0.6148 - val_precision: 0.4844 - val_recall: 0.4922\n",
      "Epoch 4/20\n",
      "322980/322980 [==============================] - 57s 176us/step - loss: 1.1670 - acc: 0.6459 - precision: 0.6683 - recall: 0.3721 - val_loss: 1.3128 - val_acc: 0.6121 - val_precision: 0.4762 - val_recall: 0.5109\n",
      "Epoch 5/20\n",
      "322980/322980 [==============================] - 57s 176us/step - loss: 1.1590 - acc: 0.6477 - precision: 0.6568 - recall: 0.3691 - val_loss: 1.3131 - val_acc: 0.6136 - val_precision: 0.4748 - val_recall: 0.5116\n",
      "Epoch 6/20\n",
      "322980/322980 [==============================] - 57s 175us/step - loss: 1.1516 - acc: 0.6499 - precision: 0.6660 - recall: 0.3760 - val_loss: 1.3159 - val_acc: 0.6087 - val_precision: 0.4960 - val_recall: 0.4767\n",
      "Epoch 7/20\n",
      "322980/322980 [==============================] - 56s 174us/step - loss: 1.1457 - acc: 0.6506 - precision: 0.6722 - recall: 0.3754 - val_loss: 1.3140 - val_acc: 0.6105 - val_precision: 0.4820 - val_recall: 0.4984\n",
      "Epoch 8/20\n",
      "322980/322980 [==============================] - 57s 176us/step - loss: 1.1411 - acc: 0.6523 - precision: 0.6750 - recall: 0.3870 - val_loss: 1.3076 - val_acc: 0.6151 - val_precision: 0.4780 - val_recall: 0.4969\n",
      "Epoch 9/20\n",
      "322980/322980 [==============================] - 56s 175us/step - loss: 1.1369 - acc: 0.6526 - precision: 0.6716 - recall: 0.3796 - val_loss: 1.3074 - val_acc: 0.6145 - val_precision: 0.4984 - val_recall: 0.4760\n",
      "Epoch 10/20\n",
      "322980/322980 [==============================] - 56s 174us/step - loss: 1.1321 - acc: 0.6535 - precision: 0.6698 - recall: 0.3865 - val_loss: 1.3029 - val_acc: 0.6154 - val_precision: 0.5307 - val_recall: 0.4550\n",
      "Epoch 11/20\n",
      "322980/322980 [==============================] - 56s 174us/step - loss: 1.1279 - acc: 0.6541 - precision: 0.6709 - recall: 0.3807 - val_loss: 1.3111 - val_acc: 0.6118 - val_precision: 0.4770 - val_recall: 0.5147\n",
      "Epoch 12/20\n",
      "322980/322980 [==============================] - 56s 174us/step - loss: 1.1241 - acc: 0.6558 - precision: 0.6803 - recall: 0.3930 - val_loss: 1.3136 - val_acc: 0.6104 - val_precision: 0.4904 - val_recall: 0.4961\n",
      "Epoch 13/20\n",
      "322980/322980 [==============================] - 56s 173us/step - loss: 1.1209 - acc: 0.6559 - precision: 0.6813 - recall: 0.3961 - val_loss: 1.3116 - val_acc: 0.6092 - val_precision: 0.5016 - val_recall: 0.4775\n",
      "Epoch 14/20\n",
      "322980/322980 [==============================] - 56s 174us/step - loss: 1.1163 - acc: 0.6576 - precision: 0.6797 - recall: 0.3897 - val_loss: 1.3161 - val_acc: 0.6078 - val_precision: 0.4904 - val_recall: 0.4961\n",
      "Epoch 15/20\n",
      "322980/322980 [==============================] - 56s 173us/step - loss: 1.1142 - acc: 0.6572 - precision: 0.6739 - recall: 0.3971 - val_loss: 1.3016 - val_acc: 0.6185 - val_precision: 0.5050 - val_recall: 0.4721\n",
      "Epoch 16/20\n",
      "322980/322980 [==============================] - 56s 175us/step - loss: 1.1108 - acc: 0.6579 - precision: 0.6771 - recall: 0.3988 - val_loss: 1.3052 - val_acc: 0.6122 - val_precision: 0.5194 - val_recall: 0.4659\n",
      "Epoch 17/20\n",
      "322980/322980 [==============================] - 56s 174us/step - loss: 1.1073 - acc: 0.6590 - precision: 0.6783 - recall: 0.3982 - val_loss: 1.3134 - val_acc: 0.6093 - val_precision: 0.5268 - val_recall: 0.4488\n",
      "Epoch 18/20\n",
      "322980/322980 [==============================] - 56s 174us/step - loss: 1.1046 - acc: 0.6594 - precision: 0.6838 - recall: 0.3971 - val_loss: 1.3110 - val_acc: 0.6111 - val_precision: 0.4739 - val_recall: 0.5217\n",
      "Epoch 19/20\n",
      "322980/322980 [==============================] - 56s 175us/step - loss: 1.1017 - acc: 0.6599 - precision: 0.6771 - recall: 0.4013 - val_loss: 1.3129 - val_acc: 0.6111 - val_precision: 0.5062 - val_recall: 0.4752\n",
      "Epoch 20/20\n",
      "322980/322980 [==============================] - 57s 175us/step - loss: 1.0984 - acc: 0.6609 - precision: 0.6905 - recall: 0.4064 - val_loss: 1.3069 - val_acc: 0.6124 - val_precision: 0.5111 - val_recall: 0.4806\n",
      "CPU times: user 34min 23s, sys: 4min 20s, total: 38min 44s\n",
      "Wall time: 19min 13s\n"
     ]
    }
   ],
   "source": [
    "%%time\n",
    "batch_size= 500 \n",
    "num_epochs = 20\n",
    "\n",
    "\n",
    "history5 = model5.fit(x={'TI_embed_input': TI_train,\n",
    "             'TECHF_embed_input': TECHF_train,\n",
    "             'pa_input': train_pa_one_hot,\n",
    "             'inv_input': train_inv_one_hot\n",
    "            },\n",
    "          y=y_train,\n",
    "          batch_size=batch_size,\n",
    "          epochs=num_epochs,\n",
    "          validation_data=\n",
    "          ({'TI_embed_input': TI_test,\n",
    "            'TECHF_embed_input': TECHF_test,\n",
    "            'pa_input': test_pa_one_hot,\n",
    "            'inv_input': test_inv_one_hot\n",
    "            },\n",
    "           y_test))"
   ]
  },
  {
   "cell_type": "code",
   "execution_count": null,
   "metadata": {},
   "outputs": [],
   "source": []
  }
 ],
 "metadata": {
  "kernelspec": {
   "display_name": "Python 3",
   "language": "python",
   "name": "python3"
  },
  "language_info": {
   "codemirror_mode": {
    "name": "ipython",
    "version": 3
   },
   "file_extension": ".py",
   "mimetype": "text/x-python",
   "name": "python",
   "nbconvert_exporter": "python",
   "pygments_lexer": "ipython3",
   "version": "3.6.0"
  }
 },
 "nbformat": 4,
 "nbformat_minor": 2
}
